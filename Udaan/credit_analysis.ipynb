{
 "cells": [
  {
   "cell_type": "code",
   "execution_count": 2,
   "metadata": {},
   "outputs": [],
   "source": [
    "import pandas as pd\n",
    "import numpy as np\n",
    "import os, sys"
   ]
  },
  {
   "cell_type": "code",
   "execution_count": 3,
   "metadata": {},
   "outputs": [],
   "source": [
    "# GLOBALS\n",
    "LOCAL_ROOT = '/Users/varunn/Documents/ExternalTest/'\n",
    "PROJ_DIR = os.path.join(LOCAL_ROOT, 'Udaan')\n",
    "INP_FN = os.path.join(PROJ_DIR, 'underwriting_problem_with_predictor.xlsx')\n",
    "SHEET_NAME = 'raw data'"
   ]
  },
  {
   "cell_type": "code",
   "execution_count": 4,
   "metadata": {},
   "outputs": [],
   "source": [
    "assert os.path.isfile(INP_FN)"
   ]
  },
  {
   "cell_type": "code",
   "execution_count": 5,
   "metadata": {},
   "outputs": [],
   "source": [
    "# read data\n",
    "df = pd.read_excel(INP_FN, sheet_name=SHEET_NAME)"
   ]
  },
  {
   "cell_type": "code",
   "execution_count": 51,
   "metadata": {},
   "outputs": [
    {
     "name": "stdout",
     "output_type": "stream",
     "text": [
      "(51946, 43)\n"
     ]
    },
    {
     "data": {
      "text/html": [
       "<div>\n",
       "<style scoped>\n",
       "    .dataframe tbody tr th:only-of-type {\n",
       "        vertical-align: middle;\n",
       "    }\n",
       "\n",
       "    .dataframe tbody tr th {\n",
       "        vertical-align: top;\n",
       "    }\n",
       "\n",
       "    .dataframe thead th {\n",
       "        text-align: right;\n",
       "    }\n",
       "</style>\n",
       "<table border=\"1\" class=\"dataframe\">\n",
       "  <thead>\n",
       "    <tr style=\"text-align: right;\">\n",
       "      <th></th>\n",
       "      <th>id</th>\n",
       "      <th>category</th>\n",
       "      <th>activation_type</th>\n",
       "      <th>business_category</th>\n",
       "      <th>head_office_pincode</th>\n",
       "      <th>tags_bucket</th>\n",
       "      <th>orders_delivered_before_credit_activation</th>\n",
       "      <th>rto_orders_before_credit_activation</th>\n",
       "      <th>gmv_delivered_before_credit_activation</th>\n",
       "      <th>no_months_orders_delivered_before_credit_activation</th>\n",
       "      <th>...</th>\n",
       "      <th>distinct_device_brand_before_credit_activation</th>\n",
       "      <th>distinct_device_model_before_credit_activation</th>\n",
       "      <th>session_count_before_credit_activation</th>\n",
       "      <th>last_30_days_session_count_before_credit_activation</th>\n",
       "      <th>last_7_days_session_count_before_credit_activation</th>\n",
       "      <th>session_count_before_credit_activation_0_5</th>\n",
       "      <th>session_count_before_credit_activation_6_11</th>\n",
       "      <th>session_count_before_credit_activation_12_17</th>\n",
       "      <th>session_count_before_credit_activation_18_23</th>\n",
       "      <th>binary_predictor</th>\n",
       "    </tr>\n",
       "  </thead>\n",
       "  <tbody>\n",
       "    <tr>\n",
       "      <th>0</th>\n",
       "      <td>1002</td>\n",
       "      <td>A</td>\n",
       "      <td>N</td>\n",
       "      <td>retail</td>\n",
       "      <td>NaN</td>\n",
       "      <td>HEAVY</td>\n",
       "      <td>0.0</td>\n",
       "      <td>0.0</td>\n",
       "      <td>NaN</td>\n",
       "      <td>0.0</td>\n",
       "      <td>...</td>\n",
       "      <td>3.0</td>\n",
       "      <td>3.0</td>\n",
       "      <td>233.0</td>\n",
       "      <td>42.0</td>\n",
       "      <td>12.0</td>\n",
       "      <td>15.0</td>\n",
       "      <td>31.0</td>\n",
       "      <td>40.0</td>\n",
       "      <td>147.0</td>\n",
       "      <td>0</td>\n",
       "    </tr>\n",
       "    <tr>\n",
       "      <th>1</th>\n",
       "      <td>1003</td>\n",
       "      <td>A</td>\n",
       "      <td>N</td>\n",
       "      <td>retail</td>\n",
       "      <td>577002.0</td>\n",
       "      <td>HEAVY</td>\n",
       "      <td>NaN</td>\n",
       "      <td>NaN</td>\n",
       "      <td>NaN</td>\n",
       "      <td>NaN</td>\n",
       "      <td>...</td>\n",
       "      <td>2.0</td>\n",
       "      <td>2.0</td>\n",
       "      <td>166.0</td>\n",
       "      <td>120.0</td>\n",
       "      <td>11.0</td>\n",
       "      <td>1.0</td>\n",
       "      <td>9.0</td>\n",
       "      <td>82.0</td>\n",
       "      <td>74.0</td>\n",
       "      <td>0</td>\n",
       "    </tr>\n",
       "    <tr>\n",
       "      <th>2</th>\n",
       "      <td>1010</td>\n",
       "      <td>A</td>\n",
       "      <td>N</td>\n",
       "      <td>retail</td>\n",
       "      <td>NaN</td>\n",
       "      <td>HEAVY</td>\n",
       "      <td>9.0</td>\n",
       "      <td>3.0</td>\n",
       "      <td>28632.75</td>\n",
       "      <td>1.0</td>\n",
       "      <td>...</td>\n",
       "      <td>2.0</td>\n",
       "      <td>3.0</td>\n",
       "      <td>95.0</td>\n",
       "      <td>85.0</td>\n",
       "      <td>85.0</td>\n",
       "      <td>1.0</td>\n",
       "      <td>6.0</td>\n",
       "      <td>59.0</td>\n",
       "      <td>29.0</td>\n",
       "      <td>1</td>\n",
       "    </tr>\n",
       "    <tr>\n",
       "      <th>3</th>\n",
       "      <td>1011</td>\n",
       "      <td>A</td>\n",
       "      <td>N</td>\n",
       "      <td>retail</td>\n",
       "      <td>NaN</td>\n",
       "      <td>HEAVY</td>\n",
       "      <td>NaN</td>\n",
       "      <td>NaN</td>\n",
       "      <td>NaN</td>\n",
       "      <td>NaN</td>\n",
       "      <td>...</td>\n",
       "      <td>1.0</td>\n",
       "      <td>1.0</td>\n",
       "      <td>20.0</td>\n",
       "      <td>1.0</td>\n",
       "      <td>0.0</td>\n",
       "      <td>0.0</td>\n",
       "      <td>2.0</td>\n",
       "      <td>18.0</td>\n",
       "      <td>0.0</td>\n",
       "      <td>1</td>\n",
       "    </tr>\n",
       "    <tr>\n",
       "      <th>4</th>\n",
       "      <td>1012</td>\n",
       "      <td>A</td>\n",
       "      <td>N</td>\n",
       "      <td>retail</td>\n",
       "      <td>NaN</td>\n",
       "      <td>HEAVY</td>\n",
       "      <td>NaN</td>\n",
       "      <td>NaN</td>\n",
       "      <td>NaN</td>\n",
       "      <td>NaN</td>\n",
       "      <td>...</td>\n",
       "      <td>1.0</td>\n",
       "      <td>1.0</td>\n",
       "      <td>71.0</td>\n",
       "      <td>25.0</td>\n",
       "      <td>8.0</td>\n",
       "      <td>NaN</td>\n",
       "      <td>8.0</td>\n",
       "      <td>23.0</td>\n",
       "      <td>40.0</td>\n",
       "      <td>1</td>\n",
       "    </tr>\n",
       "  </tbody>\n",
       "</table>\n",
       "<p>5 rows × 43 columns</p>\n",
       "</div>"
      ],
      "text/plain": [
       "     id category activation_type business_category  head_office_pincode  \\\n",
       "0  1002        A               N            retail                  NaN   \n",
       "1  1003        A               N            retail             577002.0   \n",
       "2  1010        A               N            retail                  NaN   \n",
       "3  1011        A               N            retail                  NaN   \n",
       "4  1012        A               N            retail                  NaN   \n",
       "\n",
       "  tags_bucket  orders_delivered_before_credit_activation  \\\n",
       "0       HEAVY                                        0.0   \n",
       "1       HEAVY                                        NaN   \n",
       "2       HEAVY                                        9.0   \n",
       "3       HEAVY                                        NaN   \n",
       "4       HEAVY                                        NaN   \n",
       "\n",
       "   rto_orders_before_credit_activation  \\\n",
       "0                                  0.0   \n",
       "1                                  NaN   \n",
       "2                                  3.0   \n",
       "3                                  NaN   \n",
       "4                                  NaN   \n",
       "\n",
       "   gmv_delivered_before_credit_activation  \\\n",
       "0                                     NaN   \n",
       "1                                     NaN   \n",
       "2                                28632.75   \n",
       "3                                     NaN   \n",
       "4                                     NaN   \n",
       "\n",
       "   no_months_orders_delivered_before_credit_activation  ...  \\\n",
       "0                                                0.0    ...   \n",
       "1                                                NaN    ...   \n",
       "2                                                1.0    ...   \n",
       "3                                                NaN    ...   \n",
       "4                                                NaN    ...   \n",
       "\n",
       "   distinct_device_brand_before_credit_activation  \\\n",
       "0                                             3.0   \n",
       "1                                             2.0   \n",
       "2                                             2.0   \n",
       "3                                             1.0   \n",
       "4                                             1.0   \n",
       "\n",
       "   distinct_device_model_before_credit_activation  \\\n",
       "0                                             3.0   \n",
       "1                                             2.0   \n",
       "2                                             3.0   \n",
       "3                                             1.0   \n",
       "4                                             1.0   \n",
       "\n",
       "   session_count_before_credit_activation  \\\n",
       "0                                   233.0   \n",
       "1                                   166.0   \n",
       "2                                    95.0   \n",
       "3                                    20.0   \n",
       "4                                    71.0   \n",
       "\n",
       "   last_30_days_session_count_before_credit_activation  \\\n",
       "0                                               42.0     \n",
       "1                                              120.0     \n",
       "2                                               85.0     \n",
       "3                                                1.0     \n",
       "4                                               25.0     \n",
       "\n",
       "   last_7_days_session_count_before_credit_activation  \\\n",
       "0                                               12.0    \n",
       "1                                               11.0    \n",
       "2                                               85.0    \n",
       "3                                                0.0    \n",
       "4                                                8.0    \n",
       "\n",
       "   session_count_before_credit_activation_0_5  \\\n",
       "0                                        15.0   \n",
       "1                                         1.0   \n",
       "2                                         1.0   \n",
       "3                                         0.0   \n",
       "4                                         NaN   \n",
       "\n",
       "   session_count_before_credit_activation_6_11  \\\n",
       "0                                         31.0   \n",
       "1                                          9.0   \n",
       "2                                          6.0   \n",
       "3                                          2.0   \n",
       "4                                          8.0   \n",
       "\n",
       "   session_count_before_credit_activation_12_17  \\\n",
       "0                                          40.0   \n",
       "1                                          82.0   \n",
       "2                                          59.0   \n",
       "3                                          18.0   \n",
       "4                                          23.0   \n",
       "\n",
       "   session_count_before_credit_activation_18_23  binary_predictor  \n",
       "0                                         147.0                 0  \n",
       "1                                          74.0                 0  \n",
       "2                                          29.0                 1  \n",
       "3                                           0.0                 1  \n",
       "4                                          40.0                 1  \n",
       "\n",
       "[5 rows x 43 columns]"
      ]
     },
     "execution_count": 51,
     "metadata": {},
     "output_type": "execute_result"
    }
   ],
   "source": [
    "print(df.shape)\n",
    "df.head()"
   ]
  },
  {
   "cell_type": "code",
   "execution_count": 7,
   "metadata": {},
   "outputs": [],
   "source": [
    "# GLOBAL VARIABLE NAMES\n",
    "DV = 'binary_predictor'\n",
    "ID = 'id'\n",
    "SAMPLE = 'sample'\n",
    "DISCRETE_FEATS = ['category', 'activation_type', 'business_category',\n",
    "                 'head_office_pincode', 'tags_bucket']\n",
    "IGNORE_FEATS = ['first_order_reg_duration']\n",
    "SCORE_FEATS = ['cibil_score']\n",
    "NUMERIC_FEATS = [x for x in list(df.columns) if x not in\n",
    "                 [DV, ID]+DISCRETE_FEATS+IGNORE_FEATS+SCORE_FEATS]\n",
    "FEATS = DISCRETE_FEATS + NUMERIC_FEATS + SCORE_FEATS"
   ]
  },
  {
   "cell_type": "code",
   "execution_count": 8,
   "metadata": {},
   "outputs": [
    {
     "name": "stdout",
     "output_type": "stream",
     "text": [
      "(40, '\\t', 5, '\\t', 1, '\\t', 34)\n"
     ]
    }
   ],
   "source": [
    "print(len(FEATS), '\\t', len(DISCRETE_FEATS), '\\t', len(SCORE_FEATS), '\\t', len(NUMERIC_FEATS))"
   ]
  },
  {
   "cell_type": "code",
   "execution_count": 9,
   "metadata": {},
   "outputs": [
    {
     "name": "stdout",
     "output_type": "stream",
     "text": [
      "0    26623\n",
      "1    25323\n",
      "Name: binary_predictor, dtype: int64\n",
      "0.4874870057367266\n"
     ]
    }
   ],
   "source": [
    "print(df[DV].value_counts())\n",
    "print(df[DV].mean())"
   ]
  },
  {
   "cell_type": "code",
   "execution_count": 10,
   "metadata": {},
   "outputs": [],
   "source": [
    "# Split data into train and test\n",
    "from sklearn.model_selection import train_test_split\n",
    "\n",
    "\n",
    "def sample_split(data, split=0.3, random_state=121212, feats=FEATS,\n",
    "                 dv=DV, idx=ID):\n",
    "    \"\"\"\n",
    "    stratified sampling into 70% dev and 30% val\n",
    "    \"\"\"\n",
    "    df = data.copy()\n",
    "    x_train, x_test, y_train, y_test = train_test_split(\n",
    "     df[feats+[idx]], df[dv], test_size=split,\n",
    "     random_state=random_state)\n",
    "    # dev and val samples\n",
    "    dev = pd.concat([x_train, y_train], axis=1)\n",
    "    dev['sample'] = 'dev'\n",
    "    val = pd.concat([x_test, y_test], axis=1)\n",
    "    val['sample'] = 'val'\n",
    "    cols = feats + [idx, dv, 'sample']\n",
    "    df1 = pd.concat([dev[cols], val[cols]], axis=0)\n",
    "    df1.reset_index(drop=True, inplace=True)\n",
    "    return df1"
   ]
  },
  {
   "cell_type": "code",
   "execution_count": 11,
   "metadata": {},
   "outputs": [],
   "source": [
    "df1 = sample_split(df)    # 70% train and 30% test"
   ]
  },
  {
   "cell_type": "code",
   "execution_count": 12,
   "metadata": {},
   "outputs": [
    {
     "name": "stdout",
     "output_type": "stream",
     "text": [
      "(51946, 43)\n",
      "dev    36362\n",
      "val    15584\n",
      "Name: sample, dtype: int64\n",
      "binary_predictor      0      1\n",
      "sample                        \n",
      "dev               18650  17712\n",
      "val                7973   7611\n",
      "sample\n",
      "dev    0.487102\n",
      "val    0.488386\n",
      "Name: binary_predictor, dtype: float64\n"
     ]
    }
   ],
   "source": [
    "print(df1.shape)\n",
    "print(df1[SAMPLE].value_counts())\n",
    "print(pd.crosstab(df1[SAMPLE], df1[DV]))\n",
    "print(df1.groupby(SAMPLE)[DV].mean())"
   ]
  },
  {
   "cell_type": "code",
   "execution_count": 13,
   "metadata": {},
   "outputs": [
    {
     "data": {
      "text/plain": [
       "category                                                       A\n",
       "activation_type                                                C\n",
       "business_category                                         retail\n",
       "head_office_pincode                                         1123\n",
       "tags_bucket                                                HEAVY\n",
       "orders_delivered_before_credit_activation                      0\n",
       "rto_orders_before_credit_activation                            0\n",
       "gmv_delivered_before_credit_activation                      33.6\n",
       "no_months_orders_delivered_before_credit_activation            0\n",
       "last_30_days_orders_delivered_before_credit_activation         0\n",
       "last_30_days_gmv_delivered_before_credit_activation        31.38\n",
       "no_months_transaction_done_before_credit_activation            1\n",
       "total_orders_before_credit_activation                          0\n",
       "last_30_days_rto_orders_before_credit_activation               0\n",
       "no_weeks_orders_delivered_before_credit_activation             0\n",
       "no_weeks_transaction_done_before_credit_activation             1\n",
       "last_30_days_transaction_done_before_credit_activation         0\n",
       "last_7_days_transaction_done_before_credit_activation          0\n",
       "last_7_days_orders_delivered_before_credit_activation          0\n",
       "last_7_days_gmv_delivered_before_credit_activation            40\n",
       "total_gmv_before_credit_activation                            20\n",
       "last_7_days_rto_orders_before_credit_activation                0\n",
       "last_30_days_gmv_before_credit_activation                     29\n",
       "last_7_days_gmv_before_credit_activation                      21\n",
       "num_seller_per_buyer_before_credit_activation                  1\n",
       "num_mobile_per_buyer_before_credit_activation                  1\n",
       "num_address_per_buyer_before_credit_activation                 1\n",
       "num_users_per_org                                              1\n",
       "reg_activation_duration                                        0\n",
       "first_order_activation_duration                               -3\n",
       "distinct_device_brand_before_credit_activation                 0\n",
       "distinct_device_model_before_credit_activation                 0\n",
       "session_count_before_credit_activation                         0\n",
       "last_30_days_session_count_before_credit_activation            0\n",
       "last_7_days_session_count_before_credit_activation             0\n",
       "session_count_before_credit_activation_0_5                     0\n",
       "session_count_before_credit_activation_6_11                    0\n",
       "session_count_before_credit_activation_12_17                   0\n",
       "session_count_before_credit_activation_18_23                   0\n",
       "cibil_score                                                   -1\n",
       "dtype: object"
      ]
     },
     "execution_count": 13,
     "metadata": {},
     "output_type": "execute_result"
    }
   ],
   "source": [
    "df[FEATS].min()"
   ]
  },
  {
   "cell_type": "code",
   "execution_count": 14,
   "metadata": {},
   "outputs": [],
   "source": [
    "# Handling discrete features"
   ]
  },
  {
   "cell_type": "code",
   "execution_count": 15,
   "metadata": {},
   "outputs": [],
   "source": [
    "# function to group values of discrete variables to account for low frequencies\n",
    "from math import log\n",
    "\n",
    "\n",
    "def group_cats_with_lower_freq(data, cat_col, freq_thresh=20):\n",
    "    \"\"\"\n",
    "    groups values which are of lower frequencies\n",
    "    \"\"\"\n",
    "    mask = data[SAMPLE] == 'dev'\n",
    "    cats = data.loc[mask, cat_col].value_counts().to_dict()\n",
    "    good_cats = [k for k, v in cats.items() if v >= freq_thresh]\n",
    "    return good_cats\n",
    "\n",
    "\n",
    "def get_woe(feat_series, dv_series):\n",
    "    \"\"\"\n",
    "    returns WOE which stands for weight of evidence\n",
    "    \"\"\"\n",
    "    table = pd.crosstab(feat_series, dv_series)\n",
    "    table.reset_index(inplace=True)\n",
    "    table.rename(columns={0: '#good', 1: '#bad'}, inplace=True)\n",
    "    total_good = table['#good'].sum()\n",
    "    total_bad = table['#bad'].sum()\n",
    "    table['perc_good'] = table['#good'].apply(lambda x: x/float(total_good))\n",
    "    table['perc_bad'] = table['#bad'].apply(lambda x: x/float(total_bad))\n",
    "    mask = (table['perc_good'] != 0) & (table['perc_bad'] != 0)\n",
    "    table.loc[mask, 'WOE'] = list(map(\n",
    "     lambda x, y: log(x / float(y)), table.loc[mask, 'perc_good'],\n",
    "     table.loc[mask, 'perc_bad']))\n",
    "    table.loc[~mask, 'WOE'] = np.NaN\n",
    "    table.reset_index(drop=True, inplace=True)\n",
    "    return table"
   ]
  },
  {
   "cell_type": "code",
   "execution_count": 16,
   "metadata": {},
   "outputs": [
    {
     "name": "stdout",
     "output_type": "stream",
     "text": [
      "category\n",
      "(8, '\\n')\n",
      "activation_type\n",
      "(3, '\\n')\n",
      "business_category\n",
      "(2, '\\n')\n",
      "head_office_pincode\n",
      "(3604, '\\n')\n",
      "tags_bucket\n",
      "(2, '\\n')\n"
     ]
    }
   ],
   "source": [
    "for feat in DISCRETE_FEATS:\n",
    "    print(feat)\n",
    "    mask = df1[SAMPLE] == 'dev'\n",
    "    print(df1.loc[mask, feat].nunique(), '\\n')"
   ]
  },
  {
   "cell_type": "code",
   "execution_count": 17,
   "metadata": {},
   "outputs": [
    {
     "name": "stdout",
     "output_type": "stream",
     "text": [
      "364.0\n",
      "head_office_pincode\n"
     ]
    }
   ],
   "source": [
    "# group head_office_pincode\n",
    "mask = df1[SAMPLE] == 'dev'\n",
    "MIN_FREQ = round(float(0.01*mask.sum()))\n",
    "print(MIN_FREQ)\n",
    "\n",
    "for col in ['head_office_pincode']:\n",
    "    print(col)\n",
    "    # grouping values based on freq\n",
    "    grouped_values = group_cats_with_lower_freq(df1, col,\n",
    "                                                freq_thresh=MIN_FREQ)\n",
    "    mask = df1[col].isin(grouped_values)\n",
    "    # imputing values with freq < 10000\n",
    "    df1.loc[~mask, col] = 'others'"
   ]
  },
  {
   "cell_type": "code",
   "execution_count": 18,
   "metadata": {},
   "outputs": [
    {
     "name": "stdout",
     "output_type": "stream",
     "text": [
      "others      50608\n",
      "122001.0      758\n",
      "560068.0      580\n",
      "Name: head_office_pincode, dtype: int64\n"
     ]
    }
   ],
   "source": [
    "print(df1['head_office_pincode'].value_counts())"
   ]
  },
  {
   "cell_type": "code",
   "execution_count": 19,
   "metadata": {},
   "outputs": [
    {
     "name": "stdout",
     "output_type": "stream",
     "text": [
      "category\n",
      "activation_type\n",
      "business_category\n",
      "head_office_pincode\n",
      "tags_bucket\n"
     ]
    }
   ],
   "source": [
    "# WOE mapping for discrete vars\n",
    "for feat in DISCRETE_FEATS:\n",
    "    print(feat)\n",
    "    mask = df1[SAMPLE] == 'dev'\n",
    "    table = get_woe(df1.loc[mask, feat], df1.loc[mask, DV])\n",
    "    map_dict = dict(zip(table[feat], table['WOE']))\n",
    "    # encoding\n",
    "    df1[feat] = df1[feat].map(map_dict)"
   ]
  },
  {
   "cell_type": "code",
   "execution_count": 20,
   "metadata": {},
   "outputs": [
    {
     "data": {
      "text/plain": [
       "count    51946.000000\n",
       "mean        -0.000079\n",
       "std          0.029331\n",
       "min         -0.144237\n",
       "25%          0.005889\n",
       "50%          0.005889\n",
       "75%          0.005889\n",
       "max          0.005889\n",
       "Name: tags_bucket, dtype: float64"
      ]
     },
     "execution_count": 20,
     "metadata": {},
     "output_type": "execute_result"
    }
   ],
   "source": [
    "df1['tags_bucket'].describe()"
   ]
  },
  {
   "cell_type": "code",
   "execution_count": 21,
   "metadata": {},
   "outputs": [
    {
     "data": {
      "text/plain": [
       "category                                                  float64\n",
       "activation_type                                           float64\n",
       "business_category                                         float64\n",
       "head_office_pincode                                       float64\n",
       "tags_bucket                                               float64\n",
       "orders_delivered_before_credit_activation                 float64\n",
       "rto_orders_before_credit_activation                       float64\n",
       "gmv_delivered_before_credit_activation                    float64\n",
       "no_months_orders_delivered_before_credit_activation       float64\n",
       "last_30_days_orders_delivered_before_credit_activation    float64\n",
       "last_30_days_gmv_delivered_before_credit_activation       float64\n",
       "no_months_transaction_done_before_credit_activation       float64\n",
       "total_orders_before_credit_activation                     float64\n",
       "last_30_days_rto_orders_before_credit_activation          float64\n",
       "no_weeks_orders_delivered_before_credit_activation        float64\n",
       "no_weeks_transaction_done_before_credit_activation        float64\n",
       "last_30_days_transaction_done_before_credit_activation    float64\n",
       "last_7_days_transaction_done_before_credit_activation     float64\n",
       "last_7_days_orders_delivered_before_credit_activation     float64\n",
       "last_7_days_gmv_delivered_before_credit_activation        float64\n",
       "total_gmv_before_credit_activation                        float64\n",
       "last_7_days_rto_orders_before_credit_activation           float64\n",
       "last_30_days_gmv_before_credit_activation                 float64\n",
       "last_7_days_gmv_before_credit_activation                  float64\n",
       "num_seller_per_buyer_before_credit_activation             float64\n",
       "num_mobile_per_buyer_before_credit_activation             float64\n",
       "num_address_per_buyer_before_credit_activation            float64\n",
       "num_users_per_org                                           int64\n",
       "reg_activation_duration                                     int64\n",
       "first_order_activation_duration                           float64\n",
       "distinct_device_brand_before_credit_activation            float64\n",
       "distinct_device_model_before_credit_activation            float64\n",
       "session_count_before_credit_activation                    float64\n",
       "last_30_days_session_count_before_credit_activation       float64\n",
       "last_7_days_session_count_before_credit_activation        float64\n",
       "session_count_before_credit_activation_0_5                float64\n",
       "session_count_before_credit_activation_6_11               float64\n",
       "session_count_before_credit_activation_12_17              float64\n",
       "session_count_before_credit_activation_18_23              float64\n",
       "cibil_score                                               float64\n",
       "dtype: object"
      ]
     },
     "execution_count": 21,
     "metadata": {},
     "output_type": "execute_result"
    }
   ],
   "source": [
    "df1[FEATS].dtypes"
   ]
  },
  {
   "cell_type": "code",
   "execution_count": 33,
   "metadata": {},
   "outputs": [
    {
     "data": {
      "text/plain": [
       "715.0"
      ]
     },
     "execution_count": 33,
     "metadata": {},
     "output_type": "execute_result"
    }
   ],
   "source": [
    "mask = df1[SAMPLE] == 'dev'\n",
    "df1.loc[mask, 'cibil_score'].median()"
   ]
  },
  {
   "cell_type": "code",
   "execution_count": 23,
   "metadata": {},
   "outputs": [],
   "source": [
    "# Cibil score can't be below 500\n",
    "mask = df1['cibil_score'] < 500\n",
    "df1.loc[mask, 'cibil_score'] = None"
   ]
  },
  {
   "cell_type": "code",
   "execution_count": 24,
   "metadata": {},
   "outputs": [],
   "source": [
    "# summary stats for features in dev sample\n",
    "\n",
    "from sklearn.metrics import roc_auc_score\n",
    "\n",
    "def get_summary_stats(data, feats=FEATS):\n",
    "    \n",
    "    data1 = data.copy()\n",
    "    mask = data1[SAMPLE] == 'dev'\n",
    "    df = data1.loc[mask, :]\n",
    "    df.reset_index(drop=True, inplace=True)\n",
    "    summary_df = pd.DataFrame({'feature': feats,\n",
    "                               'dtype': df[feats].dtypes})\n",
    "    \n",
    "    summary_df['_min'] = df[feats].min()\n",
    "    summary_df['_max'] = df[feats].max()\n",
    "    summary_df['_mean'] = df[feats].mean()\n",
    "    summary_df['_median'] = df[feats].median()\n",
    "    summary_df['_std'] = df[feats].std()\n",
    "    summary_df['num_missing'] = df[feats].isnull().sum()\n",
    "    summary_df['perc_missing'] = summary_df['num_missing'].apply(\n",
    "        lambda x: 1.*x/df.shape[0])\n",
    "    aucs = []    # median imputation\n",
    "    for feat in feats:\n",
    "        print(feat)\n",
    "        _median = df[feat].median()\n",
    "        # impute\n",
    "        mask = df[feat].isnull()\n",
    "        df.loc[mask, feat] = _median\n",
    "        _auc = roc_auc_score(df[DV], df[feat])\n",
    "        aucs.append(_auc)\n",
    "    summary_df['auc'] = aucs\n",
    "    \n",
    "    return summary_df"
   ]
  },
  {
   "cell_type": "code",
   "execution_count": 25,
   "metadata": {},
   "outputs": [
    {
     "name": "stdout",
     "output_type": "stream",
     "text": [
      "category\n",
      "activation_type\n"
     ]
    },
    {
     "name": "stderr",
     "output_type": "stream",
     "text": [
      "/Users/varunn/.virtualenvs/xgb/lib/python2.7/site-packages/pandas/core/indexing.py:543: SettingWithCopyWarning: \n",
      "A value is trying to be set on a copy of a slice from a DataFrame.\n",
      "Try using .loc[row_indexer,col_indexer] = value instead\n",
      "\n",
      "See the caveats in the documentation: http://pandas.pydata.org/pandas-docs/stable/indexing.html#indexing-view-versus-copy\n",
      "  self.obj[item] = s\n"
     ]
    },
    {
     "name": "stdout",
     "output_type": "stream",
     "text": [
      "business_category\n",
      "head_office_pincode\n",
      "tags_bucket\n",
      "orders_delivered_before_credit_activation\n",
      "rto_orders_before_credit_activation\n",
      "gmv_delivered_before_credit_activation\n",
      "no_months_orders_delivered_before_credit_activation\n",
      "last_30_days_orders_delivered_before_credit_activation\n",
      "last_30_days_gmv_delivered_before_credit_activation\n",
      "no_months_transaction_done_before_credit_activation\n",
      "total_orders_before_credit_activation\n",
      "last_30_days_rto_orders_before_credit_activation\n",
      "no_weeks_orders_delivered_before_credit_activation\n",
      "no_weeks_transaction_done_before_credit_activation\n",
      "last_30_days_transaction_done_before_credit_activation\n",
      "last_7_days_transaction_done_before_credit_activation\n",
      "last_7_days_orders_delivered_before_credit_activation\n",
      "last_7_days_gmv_delivered_before_credit_activation\n",
      "total_gmv_before_credit_activation\n",
      "last_7_days_rto_orders_before_credit_activation\n",
      "last_30_days_gmv_before_credit_activation\n",
      "last_7_days_gmv_before_credit_activation\n",
      "num_seller_per_buyer_before_credit_activation\n",
      "num_mobile_per_buyer_before_credit_activation\n",
      "num_address_per_buyer_before_credit_activation\n",
      "num_users_per_org\n",
      "reg_activation_duration\n",
      "first_order_activation_duration\n",
      "distinct_device_brand_before_credit_activation\n",
      "distinct_device_model_before_credit_activation\n",
      "session_count_before_credit_activation\n",
      "last_30_days_session_count_before_credit_activation\n",
      "last_7_days_session_count_before_credit_activation\n",
      "session_count_before_credit_activation_0_5\n",
      "session_count_before_credit_activation_6_11\n",
      "session_count_before_credit_activation_12_17\n",
      "session_count_before_credit_activation_18_23\n",
      "cibil_score\n"
     ]
    }
   ],
   "source": [
    "summary_stats_df = get_summary_stats(df1)"
   ]
  },
  {
   "cell_type": "code",
   "execution_count": 26,
   "metadata": {},
   "outputs": [
    {
     "name": "stdout",
     "output_type": "stream",
     "text": [
      "(40, 10)\n",
      "                       dtype              feature      _min      _max  \\\n",
      "category             float64             category -0.370855  1.481294   \n",
      "activation_type      float64      activation_type -0.243549  0.972901   \n",
      "business_category    float64    business_category -0.178088  0.000935   \n",
      "head_office_pincode  float64  head_office_pincode -0.002706  0.150991   \n",
      "tags_bucket          float64          tags_bucket -0.144237  0.005889   \n",
      "\n",
      "                            _mean   _median      _std  num_missing  \\\n",
      "category             4.663790e-03  0.166696  0.362782            1   \n",
      "activation_type      3.244977e-04  0.155637  0.198310            0   \n",
      "business_category   -3.092270e-07  0.000935  0.012907            0   \n",
      "head_office_pincode  8.758570e-06 -0.002706  0.018856            0   \n",
      "tags_bucket          1.166146e-06  0.005889  0.029141            0   \n",
      "\n",
      "                     perc_missing       auc  \n",
      "category                 0.000028  0.412032  \n",
      "activation_type          0.000000  0.452017  \n",
      "business_category        0.000000  0.499535  \n",
      "head_office_pincode      0.000000  0.498673  \n",
      "tags_bucket              0.000000  0.497171  \n"
     ]
    }
   ],
   "source": [
    "print(summary_stats_df.shape)\n",
    "print(summary_stats_df.head())"
   ]
  },
  {
   "cell_type": "code",
   "execution_count": 27,
   "metadata": {},
   "outputs": [
    {
     "name": "stdout",
     "output_type": "stream",
     "text": [
      "                                                    dtype  \\\n",
      "rto_orders_before_credit_activation               float64   \n",
      "last_30_days_rto_orders_before_credit_activation  float64   \n",
      "last_7_days_rto_orders_before_credit_activation   float64   \n",
      "last_30_days_gmv_before_credit_activation         float64   \n",
      "last_7_days_gmv_before_credit_activation          float64   \n",
      "distinct_device_brand_before_credit_activation    float64   \n",
      "distinct_device_model_before_credit_activation    float64   \n",
      "session_count_before_credit_activation_6_11       float64   \n",
      "\n",
      "                                                                                           feature  \\\n",
      "rto_orders_before_credit_activation                            rto_orders_before_credit_activation   \n",
      "last_30_days_rto_orders_before_credit_activation  last_30_days_rto_orders_before_credit_activation   \n",
      "last_7_days_rto_orders_before_credit_activation    last_7_days_rto_orders_before_credit_activation   \n",
      "last_30_days_gmv_before_credit_activation                last_30_days_gmv_before_credit_activation   \n",
      "last_7_days_gmv_before_credit_activation                  last_7_days_gmv_before_credit_activation   \n",
      "distinct_device_brand_before_credit_activation      distinct_device_brand_before_credit_activation   \n",
      "distinct_device_model_before_credit_activation      distinct_device_model_before_credit_activation   \n",
      "session_count_before_credit_activation_6_11            session_count_before_credit_activation_6_11   \n",
      "\n",
      "                                                  _min        _max  \\\n",
      "rto_orders_before_credit_activation                0.0      143.00   \n",
      "last_30_days_rto_orders_before_credit_activation   0.0       39.00   \n",
      "last_7_days_rto_orders_before_credit_activation    0.0       23.00   \n",
      "last_30_days_gmv_before_credit_activation         29.0  1958113.81   \n",
      "last_7_days_gmv_before_credit_activation          21.0   439197.34   \n",
      "distinct_device_brand_before_credit_activation     0.0       18.00   \n",
      "distinct_device_model_before_credit_activation     0.0       60.00   \n",
      "session_count_before_credit_activation_6_11        0.0     7692.00   \n",
      "\n",
      "                                                         _mean  _median  \\\n",
      "rto_orders_before_credit_activation                   2.042536      0.0   \n",
      "last_30_days_rto_orders_before_credit_activation      0.531423      0.0   \n",
      "last_7_days_rto_orders_before_credit_activation       0.122924      0.0   \n",
      "last_30_days_gmv_before_credit_activation         27745.069764   9132.2   \n",
      "last_7_days_gmv_before_credit_activation          11365.553938   4700.0   \n",
      "distinct_device_brand_before_credit_activation        1.267593      1.0   \n",
      "distinct_device_model_before_credit_activation        1.434887      1.0   \n",
      "session_count_before_credit_activation_6_11          83.968924     26.0   \n",
      "\n",
      "                                                          _std  num_missing  \\\n",
      "rto_orders_before_credit_activation                   5.580146        12876   \n",
      "last_30_days_rto_orders_before_credit_activation      1.552876        12876   \n",
      "last_7_days_rto_orders_before_credit_activation       0.582116        12876   \n",
      "last_30_days_gmv_before_credit_activation         64040.824342        19188   \n",
      "last_7_days_gmv_before_credit_activation          22301.763195        26415   \n",
      "distinct_device_brand_before_credit_activation        1.056883          509   \n",
      "distinct_device_model_before_credit_activation        1.481215          509   \n",
      "session_count_before_credit_activation_6_11         201.276658        17505   \n",
      "\n",
      "                                                  perc_missing       auc  \n",
      "rto_orders_before_credit_activation                   0.354106  0.523399  \n",
      "last_30_days_rto_orders_before_credit_activation      0.354106  0.519686  \n",
      "last_7_days_rto_orders_before_credit_activation       0.354106  0.508481  \n",
      "last_30_days_gmv_before_credit_activation             0.527694  0.500329  \n",
      "last_7_days_gmv_before_credit_activation              0.726445  0.503381  \n",
      "distinct_device_brand_before_credit_activation        0.013998  0.530230  \n",
      "distinct_device_model_before_credit_activation        0.013998  0.527806  \n",
      "session_count_before_credit_activation_6_11           0.481409  0.501336  \n"
     ]
    }
   ],
   "source": [
    "print(summary_stats_df[summary_stats_df['auc'] > 0.5])"
   ]
  },
  {
   "cell_type": "code",
   "execution_count": 28,
   "metadata": {},
   "outputs": [
    {
     "name": "stdout",
     "output_type": "stream",
     "text": [
      "count    40.000000\n",
      "mean      0.485505\n",
      "std       0.023638\n",
      "min       0.412032\n",
      "25%       0.474110\n",
      "50%       0.490431\n",
      "75%       0.499542\n",
      "max       0.530230\n",
      "Name: auc, dtype: float64\n"
     ]
    }
   ],
   "source": [
    "print(summary_stats_df['auc'].describe())"
   ]
  },
  {
   "cell_type": "code",
   "execution_count": 29,
   "metadata": {},
   "outputs": [
    {
     "data": {
      "text/html": [
       "<div>\n",
       "<style scoped>\n",
       "    .dataframe tbody tr th:only-of-type {\n",
       "        vertical-align: middle;\n",
       "    }\n",
       "\n",
       "    .dataframe tbody tr th {\n",
       "        vertical-align: top;\n",
       "    }\n",
       "\n",
       "    .dataframe thead th {\n",
       "        text-align: right;\n",
       "    }\n",
       "</style>\n",
       "<table border=\"1\" class=\"dataframe\">\n",
       "  <thead>\n",
       "    <tr style=\"text-align: right;\">\n",
       "      <th></th>\n",
       "      <th>dtype</th>\n",
       "      <th>feature</th>\n",
       "      <th>_min</th>\n",
       "      <th>_max</th>\n",
       "      <th>_mean</th>\n",
       "      <th>_median</th>\n",
       "      <th>_std</th>\n",
       "      <th>num_missing</th>\n",
       "      <th>perc_missing</th>\n",
       "      <th>auc</th>\n",
       "    </tr>\n",
       "  </thead>\n",
       "  <tbody>\n",
       "    <tr>\n",
       "      <th>cibil_score</th>\n",
       "      <td>float64</td>\n",
       "      <td>cibil_score</td>\n",
       "      <td>518.0</td>\n",
       "      <td>887.0</td>\n",
       "      <td>708.755263</td>\n",
       "      <td>715.0</td>\n",
       "      <td>54.013862</td>\n",
       "      <td>35602</td>\n",
       "      <td>0.979099</td>\n",
       "      <td>0.498</td>\n",
       "    </tr>\n",
       "  </tbody>\n",
       "</table>\n",
       "</div>"
      ],
      "text/plain": [
       "               dtype      feature   _min   _max       _mean  _median  \\\n",
       "cibil_score  float64  cibil_score  518.0  887.0  708.755263    715.0   \n",
       "\n",
       "                  _std  num_missing  perc_missing    auc  \n",
       "cibil_score  54.013862        35602      0.979099  0.498  "
      ]
     },
     "execution_count": 29,
     "metadata": {},
     "output_type": "execute_result"
    }
   ],
   "source": [
    "summary_stats_df[summary_stats_df['feature'] == 'cibil_score']"
   ]
  },
  {
   "cell_type": "code",
   "execution_count": 30,
   "metadata": {},
   "outputs": [],
   "source": [
    "# save\n",
    "summary_stats_df.to_csv(os.path.join(PROJ_DIR, 'summary_stats_dev.csv'),\n",
    "                        index=False)"
   ]
  },
  {
   "cell_type": "code",
   "execution_count": 31,
   "metadata": {},
   "outputs": [],
   "source": [
    "# Preprocessing"
   ]
  },
  {
   "cell_type": "code",
   "execution_count": 34,
   "metadata": {},
   "outputs": [
    {
     "name": "stdout",
     "output_type": "stream",
     "text": [
      "category\n",
      "0.1666963190322269\n",
      "activation_type\n",
      "0.1556373053966074\n",
      "business_category\n",
      "0.0009351282804697648\n",
      "head_office_pincode\n",
      "-0.002706144402511287\n",
      "tags_bucket\n",
      "0.005888589286381207\n",
      "orders_delivered_before_credit_activation\n",
      "7.0\n",
      "rto_orders_before_credit_activation\n",
      "0.0\n",
      "gmv_delivered_before_credit_activation\n",
      "14757.37\n",
      "no_months_orders_delivered_before_credit_activation\n",
      "2.0\n",
      "last_30_days_orders_delivered_before_credit_activation\n",
      "2.0\n",
      "last_30_days_gmv_delivered_before_credit_activation\n",
      "8402.0\n",
      "no_months_transaction_done_before_credit_activation\n",
      "2.0\n",
      "total_orders_before_credit_activation\n",
      "9.0\n",
      "last_30_days_rto_orders_before_credit_activation\n",
      "0.0\n",
      "no_weeks_orders_delivered_before_credit_activation\n",
      "4.0\n",
      "no_weeks_transaction_done_before_credit_activation\n",
      "4.0\n",
      "last_30_days_transaction_done_before_credit_activation\n",
      "3.0\n",
      "last_7_days_transaction_done_before_credit_activation\n",
      "0.0\n",
      "last_7_days_orders_delivered_before_credit_activation\n",
      "0.0\n",
      "last_7_days_gmv_delivered_before_credit_activation\n",
      "4446.3\n",
      "total_gmv_before_credit_activation\n",
      "14427.70999999995\n",
      "last_7_days_rto_orders_before_credit_activation\n",
      "0.0\n",
      "last_30_days_gmv_before_credit_activation\n",
      "9132.2\n",
      "last_7_days_gmv_before_credit_activation\n",
      "4700.0\n",
      "num_seller_per_buyer_before_credit_activation\n",
      "4.0\n",
      "num_mobile_per_buyer_before_credit_activation\n",
      "2.0\n",
      "num_address_per_buyer_before_credit_activation\n",
      "1.0\n",
      "num_users_per_org\n",
      "1.0\n",
      "reg_activation_duration\n",
      "49.0\n",
      "first_order_activation_duration\n",
      "46.0\n",
      "distinct_device_brand_before_credit_activation\n",
      "1.0\n",
      "distinct_device_model_before_credit_activation\n",
      "1.0\n",
      "session_count_before_credit_activation\n",
      "75.5\n",
      "last_30_days_session_count_before_credit_activation\n",
      "31.0\n",
      "last_7_days_session_count_before_credit_activation\n",
      "18.0\n",
      "session_count_before_credit_activation_0_5\n",
      "18.0\n",
      "session_count_before_credit_activation_6_11\n",
      "26.0\n",
      "session_count_before_credit_activation_12_17\n",
      "48.0\n",
      "session_count_before_credit_activation_18_23\n",
      "35.0\n",
      "cibil_score\n",
      "715.0\n"
     ]
    }
   ],
   "source": [
    "medians = []\n",
    "for feat in FEATS:\n",
    "    print(feat)\n",
    "    mask1 = df1[SAMPLE] == 'dev'\n",
    "    _median = df1.loc[mask, feat].median()\n",
    "    print(_median)\n",
    "    medians.append(_median)"
   ]
  },
  {
   "cell_type": "code",
   "execution_count": 35,
   "metadata": {},
   "outputs": [],
   "source": [
    "impute_dct = dict(zip(FEATS, medians))\n",
    "df1_pre = df1.copy()\n",
    "df1_pre.fillna(impute_dct, inplace=True)"
   ]
  },
  {
   "cell_type": "code",
   "execution_count": 36,
   "metadata": {},
   "outputs": [
    {
     "data": {
      "text/plain": [
       "715.0"
      ]
     },
     "execution_count": 36,
     "metadata": {},
     "output_type": "execute_result"
    }
   ],
   "source": [
    "impute_dct['cibil_score']"
   ]
  },
  {
   "cell_type": "code",
   "execution_count": 37,
   "metadata": {},
   "outputs": [
    {
     "name": "stdout",
     "output_type": "stream",
     "text": [
      "(51946, 43)\n",
      "category                                                  0\n",
      "activation_type                                           0\n",
      "business_category                                         0\n",
      "head_office_pincode                                       0\n",
      "tags_bucket                                               0\n",
      "orders_delivered_before_credit_activation                 0\n",
      "rto_orders_before_credit_activation                       0\n",
      "gmv_delivered_before_credit_activation                    0\n",
      "no_months_orders_delivered_before_credit_activation       0\n",
      "last_30_days_orders_delivered_before_credit_activation    0\n",
      "last_30_days_gmv_delivered_before_credit_activation       0\n",
      "no_months_transaction_done_before_credit_activation       0\n",
      "total_orders_before_credit_activation                     0\n",
      "last_30_days_rto_orders_before_credit_activation          0\n",
      "no_weeks_orders_delivered_before_credit_activation        0\n",
      "no_weeks_transaction_done_before_credit_activation        0\n",
      "last_30_days_transaction_done_before_credit_activation    0\n",
      "last_7_days_transaction_done_before_credit_activation     0\n",
      "last_7_days_orders_delivered_before_credit_activation     0\n",
      "last_7_days_gmv_delivered_before_credit_activation        0\n",
      "total_gmv_before_credit_activation                        0\n",
      "last_7_days_rto_orders_before_credit_activation           0\n",
      "last_30_days_gmv_before_credit_activation                 0\n",
      "last_7_days_gmv_before_credit_activation                  0\n",
      "num_seller_per_buyer_before_credit_activation             0\n",
      "num_mobile_per_buyer_before_credit_activation             0\n",
      "num_address_per_buyer_before_credit_activation            0\n",
      "num_users_per_org                                         0\n",
      "reg_activation_duration                                   0\n",
      "first_order_activation_duration                           0\n",
      "distinct_device_brand_before_credit_activation            0\n",
      "distinct_device_model_before_credit_activation            0\n",
      "session_count_before_credit_activation                    0\n",
      "last_30_days_session_count_before_credit_activation       0\n",
      "last_7_days_session_count_before_credit_activation        0\n",
      "session_count_before_credit_activation_0_5                0\n",
      "session_count_before_credit_activation_6_11               0\n",
      "session_count_before_credit_activation_12_17              0\n",
      "session_count_before_credit_activation_18_23              0\n",
      "cibil_score                                               0\n",
      "dtype: int64\n"
     ]
    }
   ],
   "source": [
    "print(df1_pre.shape)\n",
    "print(df1_pre[FEATS].isnull().sum())"
   ]
  },
  {
   "cell_type": "code",
   "execution_count": 38,
   "metadata": {},
   "outputs": [],
   "source": [
    "# getting train and test data\n",
    "mask = df1_pre[SAMPLE] == \"dev\"\n",
    "x_pre_train, y_pre_train = df1_pre.loc[mask, FEATS], df1_pre.loc[mask, DV]\n",
    "x_pre_test, y_pre_test = df1_pre.loc[~mask, FEATS], df1_pre.loc[~mask, DV]"
   ]
  },
  {
   "cell_type": "code",
   "execution_count": 42,
   "metadata": {},
   "outputs": [
    {
     "name": "stdout",
     "output_type": "stream",
     "text": [
      "CPU times: user 14 s, sys: 70.3 ms, total: 14.1 s\n",
      "Wall time: 14.1 s\n"
     ]
    },
    {
     "data": {
      "text/plain": [
       "LogisticRegression(C=1.5, class_weight=None, dual=False, fit_intercept=True,\n",
       "          intercept_scaling=1, max_iter=1000, multi_class='warn',\n",
       "          n_jobs=None, penalty='l1', random_state=None, solver='warn',\n",
       "          tol=0.0001, verbose=0, warm_start=False)"
      ]
     },
     "execution_count": 42,
     "metadata": {},
     "output_type": "execute_result"
    }
   ],
   "source": [
    "# Modelling\n",
    "\n",
    "# LR (l1, l2, EN)\n",
    "\n",
    "from sklearn.linear_model import LogisticRegression\n",
    "clf = LogisticRegression(max_iter=1000, C=1.5,\n",
    "                         penalty='l1')\n",
    "%time clf.fit(x_pre_train, y_pre_train)"
   ]
  },
  {
   "cell_type": "code",
   "execution_count": 43,
   "metadata": {},
   "outputs": [],
   "source": [
    "# prediction\n",
    "def get_prediction(model, x_test):\n",
    "    return model.predict_proba(x_test)[:, 1]\n",
    "\n",
    "def auc(actual, pred_prob):\n",
    "    return roc_auc_score(actual, pred_prob)"
   ]
  },
  {
   "cell_type": "code",
   "execution_count": 44,
   "metadata": {},
   "outputs": [
    {
     "name": "stdout",
     "output_type": "stream",
     "text": [
      "test AUC: 0.6462\n",
      "train AUC: 0.6512\n"
     ]
    }
   ],
   "source": [
    "# LR\n",
    "print(\"test AUC: %0.4f\" %auc(y_pre_test, get_prediction(clf, x_pre_test)))\n",
    "print(\"train AUC: %0.4f\" %auc(y_pre_train, get_prediction(clf, x_pre_train)))"
   ]
  },
  {
   "cell_type": "code",
   "execution_count": 45,
   "metadata": {},
   "outputs": [],
   "source": [
    "# XGBoost\n",
    "\n",
    "import xgboost as xgb\n",
    "import operator\n",
    "\n",
    "MODEL_PATH = os.path.join(PROJ_DIR, 'models')\n",
    "if not os.path.isdir(MODEL_PATH):\n",
    "    os.makedirs(MODEL_PATH)\n",
    "    \n",
    "    \n",
    "def create_feature_map(features, fn):\n",
    "    outfile = open(os.path.join(MODEL_PATH,fn), 'w')\n",
    "    for i, feat in enumerate(features):\n",
    "        outfile.write('{0}\\t{1}\\tq\\n'.format(i, feat))\n",
    "    outfile.close()\n",
    "\n",
    "def runXGB(fn, train_X, train_y, test_X, test_y=None, test_X2=None,\n",
    "           feature_names=None, seed_val=0, rounds=500, dep=8, eta=0.05):\n",
    "    params = {}\n",
    "    params[\"objective\"] = \"binary:logistic\"\n",
    "    params['eval_metric'] = 'auc'\n",
    "    params[\"eta\"] = eta\n",
    "    params[\"subsample\"] = 0.8\n",
    "    params[\"min_child_weight\"] = 1\n",
    "    params[\"colsample_bytree\"] = 0.7\n",
    "    params[\"max_depth\"] = dep\n",
    "\n",
    "    params[\"silent\"] = 1\n",
    "    params[\"seed\"] = seed_val\n",
    "    # params[\"max_delta_step\"] = 2\n",
    "    # params[\"gamma\"] = 0.5\n",
    "    num_rounds = rounds\n",
    "\n",
    "    plst = list(params.items())\n",
    "    xgtrain = xgb.DMatrix(train_X, label=train_y)\n",
    "\n",
    "    if test_y is not None:\n",
    "        xgtest = xgb.DMatrix(test_X, label=test_y)\n",
    "        watchlist = [(xgtrain, 'train'), (xgtest, 'test')]\n",
    "        model = xgb.train(plst, xgtrain, num_rounds, watchlist,\n",
    "                          early_stopping_rounds=20, verbose_eval=20)\n",
    "    else:\n",
    "        xgtest = xgb.DMatrix(test_X)\n",
    "        model = xgb.train(plst, xgtrain, num_rounds)\n",
    "\n",
    "    if feature_names is not None:\n",
    "        create_feature_map(feature_names, fn)\n",
    "        model.dump_model(os.path.join(MODEL_PATH,'raw_feats_xgb.txt'),\n",
    "                         os.path.join(MODEL_PATH,fn), with_stats=True)\n",
    "        importance = model.get_fscore(fmap=os.path.join(MODEL_PATH,fn))\n",
    "        importance = sorted(importance.items(), key=operator.itemgetter(1),\n",
    "                            reverse=True)\n",
    "        imp_df = pd.DataFrame(importance, columns=['feature', 'fscore'])\n",
    "        imp_df['fscore'] = imp_df['fscore'] / imp_df['fscore'].sum()\n",
    "        imp_df.to_csv(os.path.join(MODEL_PATH,\"raw_imp_feats_xgb.csv\"),\n",
    "                      index=False)\n",
    "\n",
    "    pred_test_y = model.predict(xgtest, ntree_limit=model.best_ntree_limit)\n",
    "    if test_X2:\n",
    "        pred_test_y2 = model.predict(xgb.DMatrix(test_X2),\n",
    "                                     ntree_limit=model.best_ntree_limit)\n",
    "    else:\n",
    "        pred_test_y2 = None\n",
    "\n",
    "    loss = 0\n",
    "    if test_y is not None:\n",
    "        loss = metrics.roc_auc_score(test_y, pred_test_y)\n",
    "\n",
    "    return pred_test_y, loss, pred_test_y2, model"
   ]
  },
  {
   "cell_type": "code",
   "execution_count": 46,
   "metadata": {},
   "outputs": [],
   "source": [
    "# XGB algo can handle missing values. So, imputation is not needed\n",
    "# train and test data on raw data\n",
    "mask = df1[SAMPLE] == \"dev\"\n",
    "x_train_raw, y_train_raw = df1.loc[mask, FEATS], df1.loc[mask, DV]\n",
    "dev_cids = df1.loc[mask, ID].tolist()\n",
    "x_test_raw, y_test_raw = df1.loc[~mask, FEATS], df1.loc[~mask, DV]\n",
    "val_cids = df1.loc[~mask, ID].tolist()"
   ]
  },
  {
   "cell_type": "code",
   "execution_count": 47,
   "metadata": {},
   "outputs": [
    {
     "name": "stdout",
     "output_type": "stream",
     "text": [
      "(36362, 40)\n",
      "(36362,)\n",
      "(15584, 40)\n",
      "(15584,)\n",
      "0    18650\n",
      "1    17712\n",
      "Name: binary_predictor, dtype: int64\n",
      "0    7973\n",
      "1    7611\n",
      "Name: binary_predictor, dtype: int64\n"
     ]
    }
   ],
   "source": [
    "print(x_train_raw.shape)\n",
    "print(y_train_raw.shape)\n",
    "print(x_test_raw.shape)\n",
    "print(y_test_raw.shape)\n",
    "print(y_train_raw.value_counts())\n",
    "print(y_test_raw.value_counts())"
   ]
  },
  {
   "cell_type": "code",
   "execution_count": 50,
   "metadata": {},
   "outputs": [
    {
     "name": "stdout",
     "output_type": "stream",
     "text": [
      "[0]\ttrain-auc:0.637233\ttest-auc:0.62286\n",
      "Multiple eval metrics have been passed: 'test-auc' will be used for early stopping.\n",
      "\n",
      "Will train until test-auc hasn't improved in 20 rounds.\n",
      "[20]\ttrain-auc:0.665731\ttest-auc:0.644852\n",
      "[40]\ttrain-auc:0.674637\ttest-auc:0.650499\n",
      "[60]\ttrain-auc:0.680961\ttest-auc:0.655303\n",
      "[80]\ttrain-auc:0.686481\ttest-auc:0.657415\n",
      "[100]\ttrain-auc:0.69095\ttest-auc:0.659482\n",
      "[120]\ttrain-auc:0.695248\ttest-auc:0.660452\n",
      "[140]\ttrain-auc:0.698566\ttest-auc:0.661029\n",
      "[160]\ttrain-auc:0.70166\ttest-auc:0.661561\n",
      "[180]\ttrain-auc:0.704589\ttest-auc:0.661803\n",
      "[199]\ttrain-auc:0.707819\ttest-auc:0.662148\n",
      "time taken: 15.79\n"
     ]
    }
   ],
   "source": [
    "# XGB model with transaction features excluding count based features\n",
    "import time\n",
    "from sklearn import metrics\n",
    "start = time.time()\n",
    "pred_val, loss, pred_test, model = runXGB(\n",
    "                 \"raw_feats_xgb.fmap\", x_train_raw,\n",
    "                 y_train_raw, x_test_raw, y_test_raw,\n",
    "                 None, rounds=200, dep=4, feature_names=FEATS)\n",
    "print(\"time taken: %0.2f\" %(time.time()-start))"
   ]
  },
  {
   "cell_type": "code",
   "execution_count": null,
   "metadata": {},
   "outputs": [],
   "source": []
  }
 ],
 "metadata": {
  "kernelspec": {
   "display_name": "Python 2",
   "language": "python",
   "name": "python2"
  },
  "language_info": {
   "codemirror_mode": {
    "name": "ipython",
    "version": 2
   },
   "file_extension": ".py",
   "mimetype": "text/x-python",
   "name": "python",
   "nbconvert_exporter": "python",
   "pygments_lexer": "ipython2",
   "version": "2.7.15"
  }
 },
 "nbformat": 4,
 "nbformat_minor": 2
}
