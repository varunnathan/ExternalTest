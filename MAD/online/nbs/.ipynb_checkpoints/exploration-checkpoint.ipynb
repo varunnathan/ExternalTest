{
 "cells": [
  {
   "cell_type": "markdown",
   "metadata": {},
   "source": [
    "## Things to do\n",
    "1. Embeddings for segment >= 20 for uuid and brand\n",
    "2. Model inference for the 2 models viz. model_segGE20 and model_segLE20"
   ]
  },
  {
   "cell_type": "markdown",
   "metadata": {},
   "source": [
    "### User and Brand Embeddings for SegGE20"
   ]
  },
  {
   "cell_type": "code",
   "execution_count": 1,
   "metadata": {},
   "outputs": [],
   "source": [
    "import pandas as pd\n",
    "import numpy as np\n",
    "import torch\n",
    "import os, sys, json, joblib"
   ]
  },
  {
   "cell_type": "code",
   "execution_count": 37,
   "metadata": {},
   "outputs": [],
   "source": [
    "sys.path.append('../../offline/src/')\n",
    "from constants import *\n",
    "from network import ProductRecommendationModel\n",
    "from baseline_feats_utils import feat_type_feats_dct"
   ]
  },
  {
   "cell_type": "code",
   "execution_count": 13,
   "metadata": {},
   "outputs": [],
   "source": [
    "# GLOBALS\n",
    "SEGMENT = 'GE20'\n",
    "N_USERS = 1444170\n",
    "N_ITEMS = 1175648\n",
    "N_ONTOLOGIES = 801\n",
    "N_BRANDS = 1686\n",
    "MODEL_FN = os.path.join(MODEL_DIR, 'Class_model_SegGE20_E1_ckpt.pt')"
   ]
  },
  {
   "cell_type": "code",
   "execution_count": 4,
   "metadata": {},
   "outputs": [],
   "source": [
    "def choose_embedding_size(cat_cols, cat_num_values, min_emb_dim=100):\n",
    "    \"\"\"\n",
    "    cat_cols: list of categorical columns\n",
    "    cat_num_values: list of number of unique values for each categorical column\n",
    "    \"\"\"\n",
    "\n",
    "    embedded_cols = dict(zip(cat_cols, cat_num_values))\n",
    "    embedding_sizes = [(n_categories, min(min_emb_dim, (n_categories+1)//2))\n",
    "                       for _, n_categories in embedded_cols.items()]\n",
    "    return embedding_sizes"
   ]
  },
  {
   "cell_type": "code",
   "execution_count": 5,
   "metadata": {},
   "outputs": [],
   "source": [
    "# choose embedding size\n",
    "\n",
    "if SEGMENT != 'GE20':\n",
    "    cat_cols = [ITEM_COL, ONTOLOGY_COL, BRAND_COL]\n",
    "    cat_num_values = [N_ITEMS, N_ONTOLOGIES, N_BRANDS]\n",
    "else:\n",
    "    cat_cols = [USER_COL, ITEM_COL, ONTOLOGY_COL, BRAND_COL]\n",
    "    cat_num_values = [N_USERS, N_ITEMS, N_ONTOLOGIES, N_BRANDS]\n",
    "\n",
    "embedding_sizes = choose_embedding_size(cat_cols, cat_num_values, 150)"
   ]
  },
  {
   "cell_type": "code",
   "execution_count": 6,
   "metadata": {},
   "outputs": [
    {
     "data": {
      "text/plain": [
       "[(1444170, 150), (1175648, 150), (801, 150), (1686, 150)]"
      ]
     },
     "execution_count": 6,
     "metadata": {},
     "output_type": "execute_result"
    }
   ],
   "source": [
    "embedding_sizes"
   ]
  },
  {
   "cell_type": "code",
   "execution_count": 8,
   "metadata": {},
   "outputs": [],
   "source": [
    "model = ProductRecommendationModel(embedding_sizes, 18, 3)"
   ]
  },
  {
   "cell_type": "code",
   "execution_count": 9,
   "metadata": {},
   "outputs": [
    {
     "data": {
      "text/plain": [
       "ProductRecommendationModel(\n",
       "  (embeddings): ModuleList(\n",
       "    (0): Embedding(1444170, 150)\n",
       "    (1): Embedding(1175648, 150)\n",
       "    (2): Embedding(801, 150)\n",
       "    (3): Embedding(1686, 150)\n",
       "  )\n",
       "  (lin1): Linear(in_features=618, out_features=300, bias=True)\n",
       "  (lin2): Linear(in_features=300, out_features=100, bias=True)\n",
       "  (lin3): Linear(in_features=100, out_features=3, bias=True)\n",
       "  (bn1): BatchNorm1d(18, eps=1e-05, momentum=0.1, affine=True, track_running_stats=True)\n",
       "  (bn2): BatchNorm1d(300, eps=1e-05, momentum=0.1, affine=True, track_running_stats=True)\n",
       "  (bn3): BatchNorm1d(100, eps=1e-05, momentum=0.1, affine=True, track_running_stats=True)\n",
       "  (emb_drop): Dropout(p=0.6, inplace=False)\n",
       "  (drops): Dropout(p=0.3, inplace=False)\n",
       ")"
      ]
     },
     "execution_count": 9,
     "metadata": {},
     "output_type": "execute_result"
    }
   ],
   "source": [
    "model"
   ]
  },
  {
   "cell_type": "code",
   "execution_count": 14,
   "metadata": {},
   "outputs": [
    {
     "data": {
      "text/plain": [
       "<All keys matched successfully>"
      ]
     },
     "execution_count": 14,
     "metadata": {},
     "output_type": "execute_result"
    }
   ],
   "source": [
    "ckpt = torch.load(MODEL_FN, map_location=torch.device('cpu'))\n",
    "model.load_state_dict(ckpt['model_state_dict'])"
   ]
  },
  {
   "cell_type": "code",
   "execution_count": 25,
   "metadata": {},
   "outputs": [
    {
     "data": {
      "text/plain": [
       "ModuleList(\n",
       "  (0): Embedding(1444170, 150)\n",
       "  (1): Embedding(1175648, 150)\n",
       "  (2): Embedding(801, 150)\n",
       "  (3): Embedding(1686, 150)\n",
       ")"
      ]
     },
     "execution_count": 25,
     "metadata": {},
     "output_type": "execute_result"
    }
   ],
   "source": [
    "model.embeddings"
   ]
  },
  {
   "cell_type": "code",
   "execution_count": 32,
   "metadata": {},
   "outputs": [
    {
     "data": {
      "text/plain": [
       "[-2.342577267482619e-39,\n",
       " 1.213080641630508e-30,\n",
       " 4.4801276403994006e-12,\n",
       " -1.0745834560718648e-12,\n",
       " -1.2736684536912568e-12,\n",
       " 6.0091482803018485e-31,\n",
       " 2.27411683100803e-39,\n",
       " -3.6126340930431473e-31,\n",
       " 8.189247845003542e-31,\n",
       " -4.468207216983683e-13,\n",
       " -5.60428921796904e-32,\n",
       " 1.2939744761797378e-12,\n",
       " -1.2274464051116813e-30,\n",
       " -1.1692410147495006e-32,\n",
       " -5.756624822276282e-31,\n",
       " -1.294582171497416e-12,\n",
       " 5.167707353617018e-14,\n",
       " 8.789154163014901e-40,\n",
       " 1.9223996042439304e-33,\n",
       " -1.3788569423846007e-30,\n",
       " -4.247238354069029e-31,\n",
       " 1.7108385021169514e-12,\n",
       " -8.790560732155114e-34,\n",
       " 2.0065267271361113e-30,\n",
       " 7.22623729517563e-13,\n",
       " 5.943382857262827e-14,\n",
       " 6.27796900294457e-14,\n",
       " -1.5818236477616043e-12,\n",
       " 3.3994831147125815e-13,\n",
       " -4.610817478691021e-13,\n",
       " 7.891153008809937e-13,\n",
       " 2.3336201676986546e-39,\n",
       " -1.1290121597218619e-39,\n",
       " -7.991583740249442e-13,\n",
       " 1.6740942387189768e-32,\n",
       " 1.8846783211338293e-31,\n",
       " -3.4870087766718993e-32,\n",
       " -2.192589286353612e-39,\n",
       " 6.515122642769544e-13,\n",
       " 1.9089695102447735e-12,\n",
       " -2.8715772468544876e-39,\n",
       " -5.599028144056239e-41,\n",
       " 5.375955538198755e-33,\n",
       " -6.460705451530324e-13,\n",
       " 2.4455340796231962e-33,\n",
       " 2.543217574953188e-30,\n",
       " 5.527468131642788e-13,\n",
       " 1.0207460554969086e-13,\n",
       " -3.7164555829506674e-13,\n",
       " -7.898769118782913e-40,\n",
       " -1.5776075378785143e-13,\n",
       " -1.6942861230748868e-13,\n",
       " 5.499141520295438e-14,\n",
       " -4.2894670849969105e-39,\n",
       " 4.7858178921694585e-31,\n",
       " 8.639771806580485e-33,\n",
       " -2.2157541512673656e-39,\n",
       " 3.759268995438044e-39,\n",
       " 2.1021984446999072e-33,\n",
       " -5.850761137037025e-30,\n",
       " 4.538393405376813e-33,\n",
       " 1.6211706011681668e-39,\n",
       " 1.1409424576213926e-32,\n",
       " 3.121511567023144e-13,\n",
       " -3.4870384032527346e-13,\n",
       " -1.718412630073718e-12,\n",
       " -3.125072796519818e-30,\n",
       " -4.723235983524901e-30,\n",
       " 5.508911469359612e-13,\n",
       " -3.0841001415857487e-30,\n",
       " -3.821141282651608e-33,\n",
       " -6.890728764495646e-13,\n",
       " -5.012836970459882e-40,\n",
       " 2.4022093247423083e-14,\n",
       " 3.975813073404423e-14,\n",
       " 1.645681182563627e-30,\n",
       " 1.4214042946909495e-39,\n",
       " -3.0094650157440496e-39,\n",
       " -1.0089498680976305e-12,\n",
       " 5.164063292201911e-31,\n",
       " -4.1755103064380905e-13,\n",
       " 5.544537251972504e-39,\n",
       " -1.2437504779807779e-40,\n",
       " 1.3835912693924245e-30,\n",
       " -2.5379316703766364e-12,\n",
       " -1.4660624401585665e-05,\n",
       " -1.740970140065012e-30,\n",
       " 2.992250064109819e-39,\n",
       " -1.240558320079046e-39,\n",
       " 1.6906208017933033e-30,\n",
       " -9.706037752956427e-33,\n",
       " 7.606432844697864e-13,\n",
       " 7.111372580213826e-13,\n",
       " 1.9129147239981376e-32,\n",
       " -3.5484430064430805e-13,\n",
       " 2.779984630083693e-13,\n",
       " 6.185027126960965e-14,\n",
       " 1.1578470387324513e-12,\n",
       " 1.5810885586886592e-12,\n",
       " 7.91513102595111e-31,\n",
       " -1.164520953625403e-13,\n",
       " 2.8661253058392955e-13,\n",
       " 1.0494294877259083e-32,\n",
       " -1.1216007289593932e-10,\n",
       " 2.483779107240309e-39,\n",
       " 7.653254657617736e-13,\n",
       " -3.73394804659144e-12,\n",
       " 3.747711085704293e-39,\n",
       " 1.3090888214768511e-39,\n",
       " 2.531664064156922e-31,\n",
       " -2.651893732819738e-13,\n",
       " 5.197431282593955e-34,\n",
       " -2.5867030956430725e-13,\n",
       " 3.5377587406898986e-39,\n",
       " -2.534709064723292e-30,\n",
       " 5.643141019713184e-40,\n",
       " 5.554719086614288e-40,\n",
       " 1.5020802527146437e-12,\n",
       " -2.975248302936051e-12,\n",
       " -3.5688283086445e-30,\n",
       " 4.02594029709445e-39,\n",
       " -4.490898552014268e-14,\n",
       " 8.386161104442484e-33,\n",
       " 9.917136962979065e-14,\n",
       " 3.6035049688157913e-31,\n",
       " 3.638733579420775e-33,\n",
       " -3.3697041467925515e-13,\n",
       " 7.784847527898819e-13,\n",
       " -6.988107285772144e-40,\n",
       " -1.073812805167662e-12,\n",
       " -4.118948680067081e-39,\n",
       " 1.1224821088781082e-40,\n",
       " 3.7310566534557925e-39,\n",
       " -3.222408377848061e-33,\n",
       " 2.4834890384581938e-39,\n",
       " -4.3673414445548336e-39,\n",
       " 1.2807585475072787e-32,\n",
       " 1.939332158404361e-12,\n",
       " 3.456961550785814e-13,\n",
       " 7.371018671040231e-31,\n",
       " -1.1364194139681856e-30,\n",
       " 8.805164567037791e-31,\n",
       " -2.3889612212274827e-14,\n",
       " -3.9704445785847253e-13,\n",
       " 2.2244071692845714e-40,\n",
       " -2.257390257833938e-32,\n",
       " 1.0817309482370782e-39,\n",
       " 1.658314653131543e-12,\n",
       " -3.58447606626468e-33,\n",
       " -8.369759421124334e-13]"
      ]
     },
     "execution_count": 32,
     "metadata": {},
     "output_type": "execute_result"
    }
   ],
   "source": [
    "model.embeddings[0].weight.data[0].numpy().tolist()"
   ]
  },
  {
   "cell_type": "markdown",
   "metadata": {},
   "source": [
    "### Model Inference"
   ]
  },
  {
   "cell_type": "code",
   "execution_count": 21,
   "metadata": {},
   "outputs": [],
   "source": [
    "inp_fn = os.path.join(INTERIM_DATA_DIR, '0005_part_07.gz')\n",
    "df = pd.read_csv(inp_fn, sep='|', compression='gzip')"
   ]
  },
  {
   "cell_type": "code",
   "execution_count": 22,
   "metadata": {},
   "outputs": [
    {
     "name": "stdout",
     "output_type": "stream",
     "text": [
      "(1371989, 24)\n"
     ]
    },
    {
     "data": {
      "text/html": [
       "<div>\n",
       "<style scoped>\n",
       "    .dataframe tbody tr th:only-of-type {\n",
       "        vertical-align: middle;\n",
       "    }\n",
       "\n",
       "    .dataframe tbody tr th {\n",
       "        vertical-align: top;\n",
       "    }\n",
       "\n",
       "    .dataframe thead th {\n",
       "        text-align: right;\n",
       "    }\n",
       "</style>\n",
       "<table border=\"1\" class=\"dataframe\">\n",
       "  <thead>\n",
       "    <tr style=\"text-align: right;\">\n",
       "      <th></th>\n",
       "      <th>uuid</th>\n",
       "      <th>userevent</th>\n",
       "      <th>sourceprodid</th>\n",
       "      <th>clicked_epoch</th>\n",
       "      <th>ontology</th>\n",
       "      <th>brand</th>\n",
       "      <th>price</th>\n",
       "      <th>uuid_num_interactions</th>\n",
       "      <th>uuid_mean_price_interactions</th>\n",
       "      <th>uuid_days_since_earliest_interaction</th>\n",
       "      <th>...</th>\n",
       "      <th>uuid_max_num_interactions_per_ont</th>\n",
       "      <th>uuid_mean_num_interactions_per_ont</th>\n",
       "      <th>uuid_min_num_interactions_per_brand</th>\n",
       "      <th>uuid_max_num_interactions_per_brand</th>\n",
       "      <th>uuid_mean_num_interactions_per_brand</th>\n",
       "      <th>sourceprodid_num_interactions</th>\n",
       "      <th>sourceprodid_days_since_earliest_interaction</th>\n",
       "      <th>sourceprodid_min_num_interactions_per_user</th>\n",
       "      <th>sourceprodid_max_num_interactions_per_user</th>\n",
       "      <th>sourceprodid_mean_num_interactions_per_user</th>\n",
       "    </tr>\n",
       "  </thead>\n",
       "  <tbody>\n",
       "    <tr>\n",
       "      <th>0</th>\n",
       "      <td>4852310</td>\n",
       "      <td>1</td>\n",
       "      <td>911340</td>\n",
       "      <td>1551714898</td>\n",
       "      <td>431</td>\n",
       "      <td>1480</td>\n",
       "      <td>1099.0</td>\n",
       "      <td>776.0</td>\n",
       "      <td>2694.778950</td>\n",
       "      <td>8.865451</td>\n",
       "      <td>...</td>\n",
       "      <td>26.0</td>\n",
       "      <td>1.519018</td>\n",
       "      <td>1.0</td>\n",
       "      <td>23.0</td>\n",
       "      <td>1.388859</td>\n",
       "      <td>188.0</td>\n",
       "      <td>38.233414</td>\n",
       "      <td>1.0</td>\n",
       "      <td>4.0</td>\n",
       "      <td>1.027066</td>\n",
       "    </tr>\n",
       "    <tr>\n",
       "      <th>1</th>\n",
       "      <td>6013644</td>\n",
       "      <td>1</td>\n",
       "      <td>876085</td>\n",
       "      <td>1550334397</td>\n",
       "      <td>217</td>\n",
       "      <td>1327</td>\n",
       "      <td>5399.0</td>\n",
       "      <td>1015.0</td>\n",
       "      <td>2653.918513</td>\n",
       "      <td>36.472095</td>\n",
       "      <td>...</td>\n",
       "      <td>17.0</td>\n",
       "      <td>1.265118</td>\n",
       "      <td>1.0</td>\n",
       "      <td>19.0</td>\n",
       "      <td>1.154053</td>\n",
       "      <td>1210.0</td>\n",
       "      <td>46.896551</td>\n",
       "      <td>1.0</td>\n",
       "      <td>4.0</td>\n",
       "      <td>1.046217</td>\n",
       "    </tr>\n",
       "    <tr>\n",
       "      <th>2</th>\n",
       "      <td>551584</td>\n",
       "      <td>1</td>\n",
       "      <td>693320</td>\n",
       "      <td>1550337611</td>\n",
       "      <td>696</td>\n",
       "      <td>1507</td>\n",
       "      <td>1999.0</td>\n",
       "      <td>93.0</td>\n",
       "      <td>2466.662973</td>\n",
       "      <td>0.044421</td>\n",
       "      <td>...</td>\n",
       "      <td>8.0</td>\n",
       "      <td>2.334516</td>\n",
       "      <td>1.0</td>\n",
       "      <td>5.0</td>\n",
       "      <td>2.301251</td>\n",
       "      <td>474.0</td>\n",
       "      <td>15.834213</td>\n",
       "      <td>1.0</td>\n",
       "      <td>3.0</td>\n",
       "      <td>1.009087</td>\n",
       "    </tr>\n",
       "    <tr>\n",
       "      <th>3</th>\n",
       "      <td>2954929</td>\n",
       "      <td>1</td>\n",
       "      <td>630337</td>\n",
       "      <td>1550341067</td>\n",
       "      <td>329</td>\n",
       "      <td>1222</td>\n",
       "      <td>6999.0</td>\n",
       "      <td>142.0</td>\n",
       "      <td>9241.447513</td>\n",
       "      <td>7.639884</td>\n",
       "      <td>...</td>\n",
       "      <td>20.0</td>\n",
       "      <td>3.707738</td>\n",
       "      <td>1.0</td>\n",
       "      <td>14.0</td>\n",
       "      <td>2.389840</td>\n",
       "      <td>367.0</td>\n",
       "      <td>46.536771</td>\n",
       "      <td>1.0</td>\n",
       "      <td>4.0</td>\n",
       "      <td>1.048521</td>\n",
       "    </tr>\n",
       "    <tr>\n",
       "      <th>4</th>\n",
       "      <td>2936231</td>\n",
       "      <td>1</td>\n",
       "      <td>537273</td>\n",
       "      <td>1550336735</td>\n",
       "      <td>285</td>\n",
       "      <td>708</td>\n",
       "      <td>499.0</td>\n",
       "      <td>163.0</td>\n",
       "      <td>820.488392</td>\n",
       "      <td>46.419120</td>\n",
       "      <td>...</td>\n",
       "      <td>16.0</td>\n",
       "      <td>2.269754</td>\n",
       "      <td>1.0</td>\n",
       "      <td>15.0</td>\n",
       "      <td>2.293380</td>\n",
       "      <td>357.0</td>\n",
       "      <td>9.044988</td>\n",
       "      <td>1.0</td>\n",
       "      <td>3.0</td>\n",
       "      <td>1.016065</td>\n",
       "    </tr>\n",
       "  </tbody>\n",
       "</table>\n",
       "<p>5 rows × 24 columns</p>\n",
       "</div>"
      ],
      "text/plain": [
       "      uuid  userevent  sourceprodid  clicked_epoch  ontology  brand   price  \\\n",
       "0  4852310          1        911340     1551714898       431   1480  1099.0   \n",
       "1  6013644          1        876085     1550334397       217   1327  5399.0   \n",
       "2   551584          1        693320     1550337611       696   1507  1999.0   \n",
       "3  2954929          1        630337     1550341067       329   1222  6999.0   \n",
       "4  2936231          1        537273     1550336735       285    708   499.0   \n",
       "\n",
       "   uuid_num_interactions  uuid_mean_price_interactions  \\\n",
       "0                  776.0                   2694.778950   \n",
       "1                 1015.0                   2653.918513   \n",
       "2                   93.0                   2466.662973   \n",
       "3                  142.0                   9241.447513   \n",
       "4                  163.0                    820.488392   \n",
       "\n",
       "   uuid_days_since_earliest_interaction  ...  \\\n",
       "0                              8.865451  ...   \n",
       "1                             36.472095  ...   \n",
       "2                              0.044421  ...   \n",
       "3                              7.639884  ...   \n",
       "4                             46.419120  ...   \n",
       "\n",
       "   uuid_max_num_interactions_per_ont  uuid_mean_num_interactions_per_ont  \\\n",
       "0                               26.0                            1.519018   \n",
       "1                               17.0                            1.265118   \n",
       "2                                8.0                            2.334516   \n",
       "3                               20.0                            3.707738   \n",
       "4                               16.0                            2.269754   \n",
       "\n",
       "   uuid_min_num_interactions_per_brand  uuid_max_num_interactions_per_brand  \\\n",
       "0                                  1.0                                 23.0   \n",
       "1                                  1.0                                 19.0   \n",
       "2                                  1.0                                  5.0   \n",
       "3                                  1.0                                 14.0   \n",
       "4                                  1.0                                 15.0   \n",
       "\n",
       "   uuid_mean_num_interactions_per_brand  sourceprodid_num_interactions  \\\n",
       "0                              1.388859                          188.0   \n",
       "1                              1.154053                         1210.0   \n",
       "2                              2.301251                          474.0   \n",
       "3                              2.389840                          367.0   \n",
       "4                              2.293380                          357.0   \n",
       "\n",
       "   sourceprodid_days_since_earliest_interaction  \\\n",
       "0                                     38.233414   \n",
       "1                                     46.896551   \n",
       "2                                     15.834213   \n",
       "3                                     46.536771   \n",
       "4                                      9.044988   \n",
       "\n",
       "   sourceprodid_min_num_interactions_per_user  \\\n",
       "0                                         1.0   \n",
       "1                                         1.0   \n",
       "2                                         1.0   \n",
       "3                                         1.0   \n",
       "4                                         1.0   \n",
       "\n",
       "   sourceprodid_max_num_interactions_per_user  \\\n",
       "0                                         4.0   \n",
       "1                                         4.0   \n",
       "2                                         3.0   \n",
       "3                                         4.0   \n",
       "4                                         3.0   \n",
       "\n",
       "   sourceprodid_mean_num_interactions_per_user  \n",
       "0                                     1.027066  \n",
       "1                                     1.046217  \n",
       "2                                     1.009087  \n",
       "3                                     1.048521  \n",
       "4                                     1.016065  \n",
       "\n",
       "[5 rows x 24 columns]"
      ]
     },
     "execution_count": 22,
     "metadata": {},
     "output_type": "execute_result"
    }
   ],
   "source": [
    "print(df.shape)\n",
    "df.head()"
   ]
  },
  {
   "cell_type": "code",
   "execution_count": 33,
   "metadata": {},
   "outputs": [
    {
     "name": "stdout",
     "output_type": "stream",
     "text": [
      "(1371989, 7)\n"
     ]
    },
    {
     "data": {
      "text/html": [
       "<div>\n",
       "<style scoped>\n",
       "    .dataframe tbody tr th:only-of-type {\n",
       "        vertical-align: middle;\n",
       "    }\n",
       "\n",
       "    .dataframe tbody tr th {\n",
       "        vertical-align: top;\n",
       "    }\n",
       "\n",
       "    .dataframe thead th {\n",
       "        text-align: right;\n",
       "    }\n",
       "</style>\n",
       "<table border=\"1\" class=\"dataframe\">\n",
       "  <thead>\n",
       "    <tr style=\"text-align: right;\">\n",
       "      <th></th>\n",
       "      <th>uuid</th>\n",
       "      <th>userevent</th>\n",
       "      <th>sourceprodid</th>\n",
       "      <th>clicked_epoch</th>\n",
       "      <th>ontology</th>\n",
       "      <th>brand</th>\n",
       "      <th>price</th>\n",
       "    </tr>\n",
       "  </thead>\n",
       "  <tbody>\n",
       "    <tr>\n",
       "      <th>0</th>\n",
       "      <td>cc1b580857481534abb2204b167915d7</td>\n",
       "      <td>pageView</td>\n",
       "      <td>3a9feb4237f4203b3118d2071b93c96c</td>\n",
       "      <td>1551714898</td>\n",
       "      <td>644e3342d3fb99e0b4d03b610dd4827d</td>\n",
       "      <td>a6b68a1deb25ba3f4b5a4c4f780094e4</td>\n",
       "      <td>1099.0</td>\n",
       "    </tr>\n",
       "    <tr>\n",
       "      <th>1</th>\n",
       "      <td>dae70b91a4c3707956e7dd17a5b03e5c</td>\n",
       "      <td>pageView</td>\n",
       "      <td>611f8d943412d7260bedac2f493f2c77</td>\n",
       "      <td>1550334397</td>\n",
       "      <td>f9e13a341127b189f97e6ee05923340c</td>\n",
       "      <td>b081d61f98a982edd345e81a9d70102a</td>\n",
       "      <td>5399.0</td>\n",
       "    </tr>\n",
       "    <tr>\n",
       "      <th>2</th>\n",
       "      <td>300665c14ec978de7eeb31466eb27712</td>\n",
       "      <td>pageView</td>\n",
       "      <td>cd2d2d61897732d4aed73db4af897010</td>\n",
       "      <td>1550337611</td>\n",
       "      <td>e3bb7a2fc0e60206b5b12b95c0c25b07</td>\n",
       "      <td>72c035606a07faa83f56eeb7a1be1beb</td>\n",
       "      <td>1999.0</td>\n",
       "    </tr>\n",
       "    <tr>\n",
       "      <th>3</th>\n",
       "      <td>94c68896d5a983923c5acfc62c2303a0</td>\n",
       "      <td>pageView</td>\n",
       "      <td>55eb55799a57b2cc969eb5025e655025</td>\n",
       "      <td>1550341067</td>\n",
       "      <td>87400c7f16b66890a0e0e97305291c92</td>\n",
       "      <td>787923f3de426787a37e7c024f96418d</td>\n",
       "      <td>6999.0</td>\n",
       "    </tr>\n",
       "    <tr>\n",
       "      <th>4</th>\n",
       "      <td>eb42828d343f5e56bbf969ac7b7a0a36</td>\n",
       "      <td>pageView</td>\n",
       "      <td>5c2c92c8a1a442024b23016f145d3fda</td>\n",
       "      <td>1550336735</td>\n",
       "      <td>ed414ff376ba74be64279ba9b31a94f3</td>\n",
       "      <td>49b42c44eb0bf64a6a33b4df5ce3b7e9</td>\n",
       "      <td>499.0</td>\n",
       "    </tr>\n",
       "  </tbody>\n",
       "</table>\n",
       "</div>"
      ],
      "text/plain": [
       "                               uuid userevent  \\\n",
       "0  cc1b580857481534abb2204b167915d7  pageView   \n",
       "1  dae70b91a4c3707956e7dd17a5b03e5c  pageView   \n",
       "2  300665c14ec978de7eeb31466eb27712  pageView   \n",
       "3  94c68896d5a983923c5acfc62c2303a0  pageView   \n",
       "4  eb42828d343f5e56bbf969ac7b7a0a36  pageView   \n",
       "\n",
       "                       sourceprodid  clicked_epoch  \\\n",
       "0  3a9feb4237f4203b3118d2071b93c96c     1551714898   \n",
       "1  611f8d943412d7260bedac2f493f2c77     1550334397   \n",
       "2  cd2d2d61897732d4aed73db4af897010     1550337611   \n",
       "3  55eb55799a57b2cc969eb5025e655025     1550341067   \n",
       "4  5c2c92c8a1a442024b23016f145d3fda     1550336735   \n",
       "\n",
       "                           ontology                             brand   price  \n",
       "0  644e3342d3fb99e0b4d03b610dd4827d  a6b68a1deb25ba3f4b5a4c4f780094e4  1099.0  \n",
       "1  f9e13a341127b189f97e6ee05923340c  b081d61f98a982edd345e81a9d70102a  5399.0  \n",
       "2  e3bb7a2fc0e60206b5b12b95c0c25b07  72c035606a07faa83f56eeb7a1be1beb  1999.0  \n",
       "3  87400c7f16b66890a0e0e97305291c92  787923f3de426787a37e7c024f96418d  6999.0  \n",
       "4  ed414ff376ba74be64279ba9b31a94f3  49b42c44eb0bf64a6a33b4df5ce3b7e9   499.0  "
      ]
     },
     "execution_count": 33,
     "metadata": {},
     "output_type": "execute_result"
    }
   ],
   "source": [
    "inp_fn = os.path.join(RAW_DATA_DIR, '0005_part_07.gz')\n",
    "raw_df = pd.read_csv(inp_fn, sep='|', compression='gzip')\n",
    "\n",
    "print(raw_df.shape)\n",
    "raw_df.head()"
   ]
  },
  {
   "cell_type": "code",
   "execution_count": 38,
   "metadata": {},
   "outputs": [
    {
     "data": {
      "text/plain": [
       "Timestamp('2019-03-04 15:54:58')"
      ]
     },
     "execution_count": 38,
     "metadata": {},
     "output_type": "execute_result"
    }
   ],
   "source": [
    "pd.to_datetime(1551714898, unit='s')"
   ]
  },
  {
   "cell_type": "code",
   "execution_count": 23,
   "metadata": {},
   "outputs": [],
   "source": [
    "user2idx = json.load(open(USER2IDX_SEGGE20_FN))"
   ]
  },
  {
   "cell_type": "markdown",
   "metadata": {},
   "source": [
    "#### Inputs\n",
    "1. uuid\n",
    "2. sourceprodid\n",
    "\n",
    "#### Approach\n",
    "0. map sourceprodid to brand, ontology and price\n",
    "1. user and item baseline features\n",
    "2. index mapping for uuid, sourceprodid, ontology, brand\n",
    "3. prepare input tensors\n",
    "4. model.forward"
   ]
  },
  {
   "cell_type": "code",
   "execution_count": 39,
   "metadata": {},
   "outputs": [
    {
     "name": "stdout",
     "output_type": "stream",
     "text": [
      "User:  cc1b580857481534abb2204b167915d7\n",
      "Item:  3a9feb4237f4203b3118d2071b93c96c\n",
      "Clicked Epoch:  1551714898\n"
     ]
    }
   ],
   "source": [
    "user = raw_df.loc[0, 'uuid']\n",
    "item = raw_df.loc[0, 'sourceprodid']\n",
    "clicked_epoch = 1551714898\n",
    "\n",
    "print('User: ', user)\n",
    "print('Item: ', item)\n",
    "print('Clicked Epoch: ', clicked_epoch)"
   ]
  },
  {
   "cell_type": "code",
   "execution_count": 40,
   "metadata": {},
   "outputs": [
    {
     "name": "stdout",
     "output_type": "stream",
     "text": [
      "Ontology:  644e3342d3fb99e0b4d03b610dd4827d\n",
      "Brand:  a6b68a1deb25ba3f4b5a4c4f780094e4\n",
      "Price:  1099.0\n"
     ]
    }
   ],
   "source": [
    "# Step 0\n",
    "pdt_mapping = json.load(open(PDT_MAPPING_FN))\n",
    "ont, brand, price = pdt_mapping[item]\n",
    "del pdt_mapping\n",
    "\n",
    "print('Ontology: ', ont)\n",
    "print('Brand: ', brand)\n",
    "print('Price: ', price)"
   ]
  },
  {
   "cell_type": "code",
   "execution_count": 43,
   "metadata": {},
   "outputs": [
    {
     "ename": "SyntaxError",
     "evalue": "can't assign to operator (<ipython-input-43-a992926e1e06>, line 10)",
     "output_type": "error",
     "traceback": [
      "\u001b[0;36m  File \u001b[0;32m\"<ipython-input-43-a992926e1e06>\"\u001b[0;36m, line \u001b[0;32m10\u001b[0m\n\u001b[0;31m    user_col+'_'+feat_name = user_feats[user][feat_pos]\u001b[0m\n\u001b[0m    ^\u001b[0m\n\u001b[0;31mSyntaxError\u001b[0m\u001b[0;31m:\u001b[0m can't assign to operator\n"
     ]
    }
   ],
   "source": [
    "# step 1\n",
    "\n",
    "def get_baseline_feats(user_col, item_col, user, item, clicked_epoch,\n",
    "                       user_feats, item_feats,\n",
    "                       feat_type_dct=feat_type_feats_dct):\n",
    "    print('User Features')\n",
    "    feats = []\n",
    "    for feat_pos, feat_name in enumerate(feat_type_dct['user']):\n",
    "        user_col+'_'+feat_name = user_feats[user][feat_pos]\n",
    "        if feat_name == 'earliest_interaction_date':\n",
    "            user_col+'_days_since_earliest_interaction' = (float(\n",
    "                clicked_epoch)-float(user_col+'_'+feat_name))/(60*60*24)\n",
    "            if user_col+'_days_since_earliest_interaction' < 0:\n",
    "                user_col+'_days_since_earliest_interaction' = -1\n",
    "            feats.append(user_col+'_days_since_earliest_interaction')\n",
    "        else:\n",
    "            feats.append(user_col+'_'+feat_name)\n",
    "\n",
    "    print('Item Features')\n",
    "    for feat_pos, feat_name in enumerate(feat_type_dct['item']):\n",
    "        item_col+'_'+feat_name = user_feats[item][feat_pos]\n",
    "        if feat_name == 'earliest_interaction_date':\n",
    "            item_col+'_days_since_earliest_interaction' = (float(\n",
    "                clicked_epoch)-float(item_col+'_'+feat_name))/(60*60*24)\n",
    "            if item_col+'_days_since_earliest_interaction' < 0:\n",
    "                item_col+'_days_since_earliest_interaction' = -1\n",
    "            feats.append(item_col+'_days_since_earliest_interaction')\n",
    "        else:\n",
    "            feats.append(item_col+'_'+feat_name)\n",
    "    \n",
    "    return feats\n",
    "\n",
    "\n",
    "print('read baseline feats dct')\n",
    "user_feats = json.load(open(USER_BASELINE_FEATS_FN))\n",
    "item_feats = json.load(open(ITEM_BASELINE_FEATS_FN))\n",
    "\n",
    "print('get baseline feats')\n",
    "baseline_feats = get_baseline_feats(USER_COL, ITEM_COL, user, item,\n",
    "                                    clicked_epoch, user_feats,\n",
    "                                    item_feats)\n",
    "\n",
    "del user_feats, item_feats\n",
    "\n",
    "print(baseline_feats)"
   ]
  },
  {
   "cell_type": "code",
   "execution_count": null,
   "metadata": {},
   "outputs": [],
   "source": []
  }
 ],
 "metadata": {
  "kernelspec": {
   "display_name": "Python 3",
   "language": "python",
   "name": "python3"
  },
  "language_info": {
   "codemirror_mode": {
    "name": "ipython",
    "version": 3
   },
   "file_extension": ".py",
   "mimetype": "text/x-python",
   "name": "python",
   "nbconvert_exporter": "python",
   "pygments_lexer": "ipython3",
   "version": "3.6.5"
  }
 },
 "nbformat": 4,
 "nbformat_minor": 2
}
