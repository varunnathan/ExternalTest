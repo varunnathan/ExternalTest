{
 "cells": [
  {
   "cell_type": "code",
   "execution_count": 2,
   "metadata": {},
   "outputs": [],
   "source": [
    "import pandas as pd\n",
    "import numpy as np\n",
    "import os, sys"
   ]
  },
  {
   "cell_type": "code",
   "execution_count": 3,
   "metadata": {},
   "outputs": [],
   "source": [
    "# GLOBALS\n",
    "LOCAL_DIR = '/Users/varunn/Documents/'\n",
    "PROJ_DIR = os.path.join(LOCAL_DIR, 'ExternalTest/MAD')\n",
    "DATA_DIR = os.path.join(LOCAL_DIR, 'ExternalTest_Data/MAD')\n",
    "RAW_DATA_DIR = os.path.join(DATA_DIR, 'raw')\n",
    "RAW_DATA_TEST_DIR = os.path.join(DATA_DIR, 'raw_data_test')\n",
    "INTERIM_DATA_DIR = os.path.join(DATA_DIR, 'interim')\n",
    "MODEL_DIR = os.path.join(DATA_DIR, 'model')\n",
    "PREDICTION_DIR = os.path.join(DATA_DIR, 'prediction')\n",
    "RAW_INP_FN = os.path.join(RAW_DATA_DIR, '000{}_part_0{}.gz')"
   ]
  },
  {
   "cell_type": "code",
   "execution_count": 4,
   "metadata": {},
   "outputs": [
    {
     "name": "stdout",
     "output_type": "stream",
     "text": [
      "num files:  48\n",
      "['0000_part_00.gz', '0000_part_01.gz', '0000_part_02.gz']\n"
     ]
    }
   ],
   "source": [
    "files = [x for x in os.listdir(RAW_DATA_DIR) if x.endswith('.gz')]\n",
    "print('num files: ', len(files))\n",
    "print(files[:3])"
   ]
  },
  {
   "cell_type": "code",
   "execution_count": 5,
   "metadata": {},
   "outputs": [
    {
     "name": "stdout",
     "output_type": "stream",
     "text": [
      "split files into train and test\n",
      "['0000_part_00.gz', '0000_part_01.gz', '0000_part_02.gz', '0000_part_03.gz', '0000_part_04.gz', '0000_part_05.gz', '0000_part_06.gz', '0000_part_07.gz', '0001_part_00.gz', '0001_part_01.gz', '0001_part_02.gz', '0001_part_03.gz', '0001_part_04.gz', '0001_part_05.gz', '0001_part_06.gz', '0001_part_07.gz', '0002_part_00.gz', '0002_part_01.gz', '0002_part_02.gz', '0002_part_03.gz', '0002_part_04.gz', '0002_part_05.gz', '0002_part_06.gz', '0002_part_07.gz', '0003_part_00.gz', '0003_part_01.gz', '0003_part_02.gz', '0003_part_03.gz', '0003_part_04.gz', '0003_part_05.gz', '0003_part_06.gz', '0003_part_07.gz', '0004_part_00.gz', '0004_part_01.gz', '0004_part_02.gz', '0004_part_03.gz', '0004_part_04.gz', '0004_part_05.gz', '0004_part_06.gz', '0004_part_07.gz']\n",
      "['0005_part_00.gz', '0005_part_01.gz', '0005_part_02.gz', '0005_part_03.gz', '0005_part_04.gz', '0005_part_05.gz', '0005_part_06.gz', '0005_part_07.gz']\n"
     ]
    }
   ],
   "source": [
    "    print('split files into train and test')\n",
    "    train_files = [x for x in files if not x.startswith('0005')]\n",
    "    test_files = [x for x in files if x.startswith('0005')]\n",
    "    \n",
    "    print(train_files)\n",
    "    print(test_files)"
   ]
  },
  {
   "cell_type": "code",
   "execution_count": 6,
   "metadata": {},
   "outputs": [
    {
     "name": "stdout",
     "output_type": "stream",
     "text": [
      "{'train': ['0000_part_00.gz', '0000_part_01.gz', '0000_part_02.gz', '0000_part_03.gz', '0000_part_04.gz', '0000_part_05.gz', '0000_part_06.gz', '0000_part_07.gz', '0001_part_00.gz', '0001_part_01.gz', '0001_part_02.gz', '0001_part_03.gz', '0001_part_04.gz', '0001_part_05.gz', '0001_part_06.gz', '0001_part_07.gz', '0002_part_00.gz', '0002_part_01.gz', '0002_part_02.gz', '0002_part_03.gz', '0002_part_04.gz', '0002_part_05.gz', '0002_part_06.gz', '0002_part_07.gz', '0003_part_00.gz', '0003_part_01.gz', '0003_part_02.gz', '0003_part_03.gz', '0003_part_04.gz', '0003_part_05.gz', '0003_part_06.gz', '0003_part_07.gz', '0004_part_00.gz', '0004_part_01.gz', '0004_part_02.gz', '0004_part_03.gz', '0004_part_04.gz', '0004_part_05.gz', '0004_part_06.gz', '0004_part_07.gz'], 'test': ['0005_part_00.gz', '0005_part_01.gz', '0005_part_02.gz', '0005_part_03.gz', '0005_part_04.gz', '0005_part_05.gz', '0005_part_06.gz', '0005_part_07.gz']}\n"
     ]
    }
   ],
   "source": [
    "    file_dct = {}\n",
    "    file_dct['train'] = train_files\n",
    "    file_dct['test'] = test_files\n",
    "    print(file_dct)"
   ]
  },
  {
   "cell_type": "code",
   "execution_count": 4,
   "metadata": {},
   "outputs": [
    {
     "name": "stdout",
     "output_type": "stream",
     "text": [
      "file: /Users/varunn/Documents/ExternalTest_Data/MAD/raw/0002_part_01.gz\n"
     ]
    }
   ],
   "source": [
    "# read a sample dataset\n",
    "inp_fn = RAW_INP_FN.format(2, 1)\n",
    "print('file: %s' % (inp_fn))\n",
    "\n",
    "df = pd.read_csv(inp_fn, compression='gzip', sep='|')"
   ]
  },
  {
   "cell_type": "code",
   "execution_count": 5,
   "metadata": {},
   "outputs": [
    {
     "name": "stdout",
     "output_type": "stream",
     "text": [
      "(4679483, 7)\n"
     ]
    },
    {
     "data": {
      "text/html": [
       "<div>\n",
       "<style scoped>\n",
       "    .dataframe tbody tr th:only-of-type {\n",
       "        vertical-align: middle;\n",
       "    }\n",
       "\n",
       "    .dataframe tbody tr th {\n",
       "        vertical-align: top;\n",
       "    }\n",
       "\n",
       "    .dataframe thead th {\n",
       "        text-align: right;\n",
       "    }\n",
       "</style>\n",
       "<table border=\"1\" class=\"dataframe\">\n",
       "  <thead>\n",
       "    <tr style=\"text-align: right;\">\n",
       "      <th></th>\n",
       "      <th>uuid</th>\n",
       "      <th>userevent</th>\n",
       "      <th>sourceprodid</th>\n",
       "      <th>clicked_epoch</th>\n",
       "      <th>ontology</th>\n",
       "      <th>brand</th>\n",
       "      <th>price</th>\n",
       "    </tr>\n",
       "  </thead>\n",
       "  <tbody>\n",
       "    <tr>\n",
       "      <th>0</th>\n",
       "      <td>e20bfb7079ddfbbce8dd5352e411b6d3</td>\n",
       "      <td>pageView</td>\n",
       "      <td>01851eb7943fbd19d11909e8f3d724df</td>\n",
       "      <td>1549338320</td>\n",
       "      <td>f6bf60f9e64ea4af52dfb058e00e1f8b</td>\n",
       "      <td>4db6adde7999319bfb67bee86942f8e9</td>\n",
       "      <td>3799.0</td>\n",
       "    </tr>\n",
       "    <tr>\n",
       "      <th>1</th>\n",
       "      <td>6078364bfdf3226c3d9d68d6c215bdc2</td>\n",
       "      <td>pageView</td>\n",
       "      <td>0d36f690445193b0b3fa1fcdfcf96fef</td>\n",
       "      <td>1549338460</td>\n",
       "      <td>d0d3ecbeb5b05bd7ab0a60d7527a3ac8</td>\n",
       "      <td>f3d6c4953c4fcb1197b4b6411e54734a</td>\n",
       "      <td>540.0</td>\n",
       "    </tr>\n",
       "    <tr>\n",
       "      <th>2</th>\n",
       "      <td>c5e85c0d6fbfbe1c9e8168a4be99d4cd</td>\n",
       "      <td>pageView</td>\n",
       "      <td>d3437bc50657e3ab45489ab5684c9c00</td>\n",
       "      <td>1549340560</td>\n",
       "      <td>6c8eab67b42b24ffe2e099a1ade6014d</td>\n",
       "      <td>7ccc98198b73f3d4f866cd910c6dccb8</td>\n",
       "      <td>2599.0</td>\n",
       "    </tr>\n",
       "    <tr>\n",
       "      <th>3</th>\n",
       "      <td>ca17c86c63a53be7d847b27ef0a5613d</td>\n",
       "      <td>pageView</td>\n",
       "      <td>7749191fcf63bc963e063a30ad91427c</td>\n",
       "      <td>1549370987</td>\n",
       "      <td>f6bf60f9e64ea4af52dfb058e00e1f8b</td>\n",
       "      <td>88b1432e046d3580de43f0d2ccc09bce</td>\n",
       "      <td>3599.0</td>\n",
       "    </tr>\n",
       "    <tr>\n",
       "      <th>4</th>\n",
       "      <td>8c2e62bd28b629939d554fa2caaaa6a8</td>\n",
       "      <td>pageView</td>\n",
       "      <td>dd800bc83fbdecfd691125a6b578b9a0</td>\n",
       "      <td>1549340857</td>\n",
       "      <td>2d71fdd27421fcf90988e4567daecbaf</td>\n",
       "      <td>3910b1e0ccab19bc46fd9db27cca49c9</td>\n",
       "      <td>73600.0</td>\n",
       "    </tr>\n",
       "  </tbody>\n",
       "</table>\n",
       "</div>"
      ],
      "text/plain": [
       "                               uuid userevent  \\\n",
       "0  e20bfb7079ddfbbce8dd5352e411b6d3  pageView   \n",
       "1  6078364bfdf3226c3d9d68d6c215bdc2  pageView   \n",
       "2  c5e85c0d6fbfbe1c9e8168a4be99d4cd  pageView   \n",
       "3  ca17c86c63a53be7d847b27ef0a5613d  pageView   \n",
       "4  8c2e62bd28b629939d554fa2caaaa6a8  pageView   \n",
       "\n",
       "                       sourceprodid  clicked_epoch  \\\n",
       "0  01851eb7943fbd19d11909e8f3d724df     1549338320   \n",
       "1  0d36f690445193b0b3fa1fcdfcf96fef     1549338460   \n",
       "2  d3437bc50657e3ab45489ab5684c9c00     1549340560   \n",
       "3  7749191fcf63bc963e063a30ad91427c     1549370987   \n",
       "4  dd800bc83fbdecfd691125a6b578b9a0     1549340857   \n",
       "\n",
       "                           ontology                             brand    price  \n",
       "0  f6bf60f9e64ea4af52dfb058e00e1f8b  4db6adde7999319bfb67bee86942f8e9   3799.0  \n",
       "1  d0d3ecbeb5b05bd7ab0a60d7527a3ac8  f3d6c4953c4fcb1197b4b6411e54734a    540.0  \n",
       "2  6c8eab67b42b24ffe2e099a1ade6014d  7ccc98198b73f3d4f866cd910c6dccb8   2599.0  \n",
       "3  f6bf60f9e64ea4af52dfb058e00e1f8b  88b1432e046d3580de43f0d2ccc09bce   3599.0  \n",
       "4  2d71fdd27421fcf90988e4567daecbaf  3910b1e0ccab19bc46fd9db27cca49c9  73600.0  "
      ]
     },
     "execution_count": 5,
     "metadata": {},
     "output_type": "execute_result"
    }
   ],
   "source": [
    "print(df.shape)\n",
    "df.head()"
   ]
  },
  {
   "cell_type": "code",
   "execution_count": 6,
   "metadata": {},
   "outputs": [
    {
     "data": {
      "text/plain": [
       "pageView     4411617\n",
       "addToCart     250558\n",
       "buy            17308\n",
       "Name: userevent, dtype: int64"
      ]
     },
     "execution_count": 6,
     "metadata": {},
     "output_type": "execute_result"
    }
   ],
   "source": [
    "df['userevent'].value_counts()"
   ]
  },
  {
   "cell_type": "code",
   "execution_count": 8,
   "metadata": {},
   "outputs": [
    {
     "data": {
      "text/plain": [
       "(1547187438, 1556668718)"
      ]
     },
     "execution_count": 8,
     "metadata": {},
     "output_type": "execute_result"
    }
   ],
   "source": [
    "df['clicked_epoch'].min(), df['clicked_epoch'].max()"
   ]
  },
  {
   "cell_type": "code",
   "execution_count": 9,
   "metadata": {},
   "outputs": [
    {
     "name": "stdout",
     "output_type": "stream",
     "text": [
      "file: /Users/varunn/Documents/ExternalTest_Data/MAD/raw/0000_part_05.gz\n"
     ]
    }
   ],
   "source": [
    "inp_fn = RAW_INP_FN.format(0, 5)\n",
    "print('file: %s' % (inp_fn))\n",
    "\n",
    "df1 = pd.read_csv(inp_fn, compression='gzip', sep='|')"
   ]
  },
  {
   "cell_type": "code",
   "execution_count": 10,
   "metadata": {},
   "outputs": [
    {
     "name": "stdout",
     "output_type": "stream",
     "text": [
      "(4783228, 7)\n"
     ]
    },
    {
     "data": {
      "text/html": [
       "<div>\n",
       "<style scoped>\n",
       "    .dataframe tbody tr th:only-of-type {\n",
       "        vertical-align: middle;\n",
       "    }\n",
       "\n",
       "    .dataframe tbody tr th {\n",
       "        vertical-align: top;\n",
       "    }\n",
       "\n",
       "    .dataframe thead th {\n",
       "        text-align: right;\n",
       "    }\n",
       "</style>\n",
       "<table border=\"1\" class=\"dataframe\">\n",
       "  <thead>\n",
       "    <tr style=\"text-align: right;\">\n",
       "      <th></th>\n",
       "      <th>uuid</th>\n",
       "      <th>userevent</th>\n",
       "      <th>sourceprodid</th>\n",
       "      <th>clicked_epoch</th>\n",
       "      <th>ontology</th>\n",
       "      <th>brand</th>\n",
       "      <th>price</th>\n",
       "    </tr>\n",
       "  </thead>\n",
       "  <tbody>\n",
       "    <tr>\n",
       "      <th>0</th>\n",
       "      <td>0c586ef0bb30810d4a04c0ba78b6a1f0</td>\n",
       "      <td>pageView</td>\n",
       "      <td>d8b14fd039ae99e5c887175c33112528</td>\n",
       "      <td>1555010511</td>\n",
       "      <td>6242cac2b5ecad61341565481aeeff06</td>\n",
       "      <td>70d027512cdb90836fe356ef29baecac</td>\n",
       "      <td>899.0</td>\n",
       "    </tr>\n",
       "    <tr>\n",
       "      <th>1</th>\n",
       "      <td>32e871b4eb49757819f0a18ff46065a7</td>\n",
       "      <td>pageView</td>\n",
       "      <td>4badb273b8b2b91dc685cf0636aa5ade</td>\n",
       "      <td>1561067054</td>\n",
       "      <td>e3bb7a2fc0e60206b5b12b95c0c25b07</td>\n",
       "      <td>9cf61b087819f2ab05af21659926174a</td>\n",
       "      <td>2899.0</td>\n",
       "    </tr>\n",
       "    <tr>\n",
       "      <th>2</th>\n",
       "      <td>fca9d3da4fe52a199e0d7ae9c252eeb8</td>\n",
       "      <td>pageView</td>\n",
       "      <td>6b8967a326b69c7bd75415e6dfa52fbc</td>\n",
       "      <td>1561058031</td>\n",
       "      <td>e9255245dbaa1e92f7b6f6f89ef00837</td>\n",
       "      <td>38dd0fe1c92e597ba80ee9b90ba8c3f5</td>\n",
       "      <td>1049.0</td>\n",
       "    </tr>\n",
       "    <tr>\n",
       "      <th>3</th>\n",
       "      <td>573ed9f67879fa248590c7fe4e48e23f</td>\n",
       "      <td>pageView</td>\n",
       "      <td>ae29ea26e6e260b2435c3d696f8a7003</td>\n",
       "      <td>1561060679</td>\n",
       "      <td>87400c7f16b66890a0e0e97305291c92</td>\n",
       "      <td>afb94ef09221efb2b79bf5a71c388a5b</td>\n",
       "      <td>2395.0</td>\n",
       "    </tr>\n",
       "    <tr>\n",
       "      <th>4</th>\n",
       "      <td>f77db71596adba9a0ebc7899bfda4d1e</td>\n",
       "      <td>pageView</td>\n",
       "      <td>53d2cfab2243f63bfe1cbe3f68b4edd5</td>\n",
       "      <td>1561058108</td>\n",
       "      <td>3048426f7310e1d4dac57d76bf1377d3</td>\n",
       "      <td>de2964761e22975c4320153e719859ee</td>\n",
       "      <td>389.0</td>\n",
       "    </tr>\n",
       "  </tbody>\n",
       "</table>\n",
       "</div>"
      ],
      "text/plain": [
       "                               uuid userevent  \\\n",
       "0  0c586ef0bb30810d4a04c0ba78b6a1f0  pageView   \n",
       "1  32e871b4eb49757819f0a18ff46065a7  pageView   \n",
       "2  fca9d3da4fe52a199e0d7ae9c252eeb8  pageView   \n",
       "3  573ed9f67879fa248590c7fe4e48e23f  pageView   \n",
       "4  f77db71596adba9a0ebc7899bfda4d1e  pageView   \n",
       "\n",
       "                       sourceprodid  clicked_epoch  \\\n",
       "0  d8b14fd039ae99e5c887175c33112528     1555010511   \n",
       "1  4badb273b8b2b91dc685cf0636aa5ade     1561067054   \n",
       "2  6b8967a326b69c7bd75415e6dfa52fbc     1561058031   \n",
       "3  ae29ea26e6e260b2435c3d696f8a7003     1561060679   \n",
       "4  53d2cfab2243f63bfe1cbe3f68b4edd5     1561058108   \n",
       "\n",
       "                           ontology                             brand   price  \n",
       "0  6242cac2b5ecad61341565481aeeff06  70d027512cdb90836fe356ef29baecac   899.0  \n",
       "1  e3bb7a2fc0e60206b5b12b95c0c25b07  9cf61b087819f2ab05af21659926174a  2899.0  \n",
       "2  e9255245dbaa1e92f7b6f6f89ef00837  38dd0fe1c92e597ba80ee9b90ba8c3f5  1049.0  \n",
       "3  87400c7f16b66890a0e0e97305291c92  afb94ef09221efb2b79bf5a71c388a5b  2395.0  \n",
       "4  3048426f7310e1d4dac57d76bf1377d3  de2964761e22975c4320153e719859ee   389.0  "
      ]
     },
     "execution_count": 10,
     "metadata": {},
     "output_type": "execute_result"
    }
   ],
   "source": [
    "print(df1.shape)\n",
    "df1.head()"
   ]
  },
  {
   "cell_type": "code",
   "execution_count": 11,
   "metadata": {},
   "outputs": [
    {
     "data": {
      "text/plain": [
       "(1546281002, 1561939193)"
      ]
     },
     "execution_count": 11,
     "metadata": {},
     "output_type": "execute_result"
    }
   ],
   "source": [
    "df1['clicked_epoch'].min(), df1['clicked_epoch'].max()"
   ]
  },
  {
   "cell_type": "code",
   "execution_count": 12,
   "metadata": {},
   "outputs": [
    {
     "name": "stdout",
     "output_type": "stream",
     "text": [
      "1063334\n",
      "356344\n",
      "1937773\n",
      "458837\n"
     ]
    }
   ],
   "source": [
    "print(df['uuid'].nunique())\n",
    "print(df['sourceprodid'].nunique())\n",
    "print(df1['uuid'].nunique())\n",
    "print(df1['sourceprodid'].nunique())"
   ]
  },
  {
   "cell_type": "code",
   "execution_count": 16,
   "metadata": {},
   "outputs": [
    {
     "data": {
      "text/plain": [
       "uuid             0\n",
       "userevent        0\n",
       "sourceprodid     0\n",
       "clicked_epoch    0\n",
       "ontology         0\n",
       "brand            1\n",
       "price            0\n",
       "dtype: int64"
      ]
     },
     "execution_count": 16,
     "metadata": {},
     "output_type": "execute_result"
    }
   ],
   "source": [
    "df.isnull().sum()"
   ]
  },
  {
   "cell_type": "code",
   "execution_count": 36,
   "metadata": {},
   "outputs": [
    {
     "data": {
      "text/plain": [
       "userevent\n",
       "addToCart     167198\n",
       "buy            14841\n",
       "pageView     1002647\n",
       "Name: uuid, dtype: int64"
      ]
     },
     "execution_count": 36,
     "metadata": {},
     "output_type": "execute_result"
    }
   ],
   "source": [
    "df.groupby('userevent')['uuid'].nunique()"
   ]
  },
  {
   "cell_type": "code",
   "execution_count": 17,
   "metadata": {},
   "outputs": [],
   "source": [
    "del df1"
   ]
  },
  {
   "cell_type": "code",
   "execution_count": 20,
   "metadata": {},
   "outputs": [
    {
     "name": "stdout",
     "output_type": "stream",
     "text": [
      "(100, 7)\n",
      "(100, 7)\n",
      "(100, 7)\n"
     ]
    }
   ],
   "source": [
    "# generate raw data for testing the custom data loader\n",
    "\n",
    "out_fn = os.path.join(RAW_DATA_TEST_DIR, 'sample_data_{}.gz')\n",
    "for i in range(3):\n",
    "    tmp_df = df.sample(n=100, random_state=1)\n",
    "    tmp_df.reset_index(drop=True, inplace=True)\n",
    "    print(tmp_df.shape)\n",
    "    tmp_df.to_csv(out_fn.format(i+1), compression='gzip', index=False)"
   ]
  },
  {
   "cell_type": "code",
   "execution_count": 37,
   "metadata": {},
   "outputs": [
    {
     "name": "stderr",
     "output_type": "stream",
     "text": [
      "/Users/varunn/.virtualenvs/rasa/lib/python3.6/site-packages/ipykernel_launcher.py:4: SettingWithCopyWarning: \n",
      "A value is trying to be set on a copy of a slice from a DataFrame\n",
      "\n",
      "See the caveats in the documentation: http://pandas.pydata.org/pandas-docs/stable/user_guide/indexing.html#returning-a-view-versus-a-copy\n",
      "  after removing the cwd from sys.path.\n"
     ]
    }
   ],
   "source": [
    "# Mapping between product, ontology, brand and price\n",
    "\n",
    "tmp_df = df[['sourceprodid', 'ontology', 'brand', 'price']]\n",
    "tmp_df.drop_duplicates(inplace=True)\n",
    "tmp_df.reset_index(drop=True, inplace=True)"
   ]
  },
  {
   "cell_type": "code",
   "execution_count": 38,
   "metadata": {},
   "outputs": [
    {
     "name": "stdout",
     "output_type": "stream",
     "text": [
      "(356344, 4)\n",
      "356344\n"
     ]
    },
    {
     "data": {
      "text/html": [
       "<div>\n",
       "<style scoped>\n",
       "    .dataframe tbody tr th:only-of-type {\n",
       "        vertical-align: middle;\n",
       "    }\n",
       "\n",
       "    .dataframe tbody tr th {\n",
       "        vertical-align: top;\n",
       "    }\n",
       "\n",
       "    .dataframe thead th {\n",
       "        text-align: right;\n",
       "    }\n",
       "</style>\n",
       "<table border=\"1\" class=\"dataframe\">\n",
       "  <thead>\n",
       "    <tr style=\"text-align: right;\">\n",
       "      <th></th>\n",
       "      <th>sourceprodid</th>\n",
       "      <th>ontology</th>\n",
       "      <th>brand</th>\n",
       "      <th>price</th>\n",
       "    </tr>\n",
       "  </thead>\n",
       "  <tbody>\n",
       "    <tr>\n",
       "      <th>0</th>\n",
       "      <td>01851eb7943fbd19d11909e8f3d724df</td>\n",
       "      <td>f6bf60f9e64ea4af52dfb058e00e1f8b</td>\n",
       "      <td>4db6adde7999319bfb67bee86942f8e9</td>\n",
       "      <td>3799.0</td>\n",
       "    </tr>\n",
       "    <tr>\n",
       "      <th>1</th>\n",
       "      <td>0d36f690445193b0b3fa1fcdfcf96fef</td>\n",
       "      <td>d0d3ecbeb5b05bd7ab0a60d7527a3ac8</td>\n",
       "      <td>f3d6c4953c4fcb1197b4b6411e54734a</td>\n",
       "      <td>540.0</td>\n",
       "    </tr>\n",
       "    <tr>\n",
       "      <th>2</th>\n",
       "      <td>d3437bc50657e3ab45489ab5684c9c00</td>\n",
       "      <td>6c8eab67b42b24ffe2e099a1ade6014d</td>\n",
       "      <td>7ccc98198b73f3d4f866cd910c6dccb8</td>\n",
       "      <td>2599.0</td>\n",
       "    </tr>\n",
       "    <tr>\n",
       "      <th>3</th>\n",
       "      <td>7749191fcf63bc963e063a30ad91427c</td>\n",
       "      <td>f6bf60f9e64ea4af52dfb058e00e1f8b</td>\n",
       "      <td>88b1432e046d3580de43f0d2ccc09bce</td>\n",
       "      <td>3599.0</td>\n",
       "    </tr>\n",
       "    <tr>\n",
       "      <th>4</th>\n",
       "      <td>dd800bc83fbdecfd691125a6b578b9a0</td>\n",
       "      <td>2d71fdd27421fcf90988e4567daecbaf</td>\n",
       "      <td>3910b1e0ccab19bc46fd9db27cca49c9</td>\n",
       "      <td>73600.0</td>\n",
       "    </tr>\n",
       "  </tbody>\n",
       "</table>\n",
       "</div>"
      ],
      "text/plain": [
       "                       sourceprodid                          ontology  \\\n",
       "0  01851eb7943fbd19d11909e8f3d724df  f6bf60f9e64ea4af52dfb058e00e1f8b   \n",
       "1  0d36f690445193b0b3fa1fcdfcf96fef  d0d3ecbeb5b05bd7ab0a60d7527a3ac8   \n",
       "2  d3437bc50657e3ab45489ab5684c9c00  6c8eab67b42b24ffe2e099a1ade6014d   \n",
       "3  7749191fcf63bc963e063a30ad91427c  f6bf60f9e64ea4af52dfb058e00e1f8b   \n",
       "4  dd800bc83fbdecfd691125a6b578b9a0  2d71fdd27421fcf90988e4567daecbaf   \n",
       "\n",
       "                              brand    price  \n",
       "0  4db6adde7999319bfb67bee86942f8e9   3799.0  \n",
       "1  f3d6c4953c4fcb1197b4b6411e54734a    540.0  \n",
       "2  7ccc98198b73f3d4f866cd910c6dccb8   2599.0  \n",
       "3  88b1432e046d3580de43f0d2ccc09bce   3599.0  \n",
       "4  3910b1e0ccab19bc46fd9db27cca49c9  73600.0  "
      ]
     },
     "execution_count": 38,
     "metadata": {},
     "output_type": "execute_result"
    }
   ],
   "source": [
    "print(tmp_df.shape)\n",
    "print(tmp_df['sourceprodid'].nunique())\n",
    "tmp_df.head()"
   ]
  },
  {
   "cell_type": "code",
   "execution_count": 39,
   "metadata": {},
   "outputs": [
    {
     "name": "stdout",
     "output_type": "stream",
     "text": [
      "680\n",
      "1241\n"
     ]
    }
   ],
   "source": [
    "print(tmp_df['ontology'].nunique())\n",
    "print(tmp_df['brand'].nunique())"
   ]
  },
  {
   "cell_type": "code",
   "execution_count": 42,
   "metadata": {},
   "outputs": [
    {
     "name": "stdout",
     "output_type": "stream",
     "text": [
      "24592\n",
      "7435\n"
     ]
    }
   ],
   "source": [
    "print(tmp_df.groupby('ontology')['sourceprodid'].nunique().max())\n",
    "print(tmp_df.groupby('brand')['sourceprodid'].nunique().max())"
   ]
  },
  {
   "cell_type": "code",
   "execution_count": 48,
   "metadata": {},
   "outputs": [
    {
     "name": "stderr",
     "output_type": "stream",
     "text": [
      "/Users/varunn/.virtualenvs/rasa/lib/python3.6/site-packages/ipykernel_launcher.py:3: SettingWithCopyWarning: \n",
      "A value is trying to be set on a copy of a slice from a DataFrame\n",
      "\n",
      "See the caveats in the documentation: http://pandas.pydata.org/pandas-docs/stable/user_guide/indexing.html#returning-a-view-versus-a-copy\n",
      "  This is separate from the ipykernel package so we can avoid doing imports until\n"
     ]
    },
    {
     "name": "stdout",
     "output_type": "stream",
     "text": [
      "(3809104, 3)\n",
      "1063334\n",
      "356344\n"
     ]
    },
    {
     "data": {
      "text/html": [
       "<div>\n",
       "<style scoped>\n",
       "    .dataframe tbody tr th:only-of-type {\n",
       "        vertical-align: middle;\n",
       "    }\n",
       "\n",
       "    .dataframe tbody tr th {\n",
       "        vertical-align: top;\n",
       "    }\n",
       "\n",
       "    .dataframe thead th {\n",
       "        text-align: right;\n",
       "    }\n",
       "</style>\n",
       "<table border=\"1\" class=\"dataframe\">\n",
       "  <thead>\n",
       "    <tr style=\"text-align: right;\">\n",
       "      <th></th>\n",
       "      <th>uuid</th>\n",
       "      <th>userevent</th>\n",
       "      <th>sourceprodid</th>\n",
       "    </tr>\n",
       "  </thead>\n",
       "  <tbody>\n",
       "    <tr>\n",
       "      <th>0</th>\n",
       "      <td>e20bfb7079ddfbbce8dd5352e411b6d3</td>\n",
       "      <td>pageView</td>\n",
       "      <td>01851eb7943fbd19d11909e8f3d724df</td>\n",
       "    </tr>\n",
       "    <tr>\n",
       "      <th>1</th>\n",
       "      <td>6078364bfdf3226c3d9d68d6c215bdc2</td>\n",
       "      <td>pageView</td>\n",
       "      <td>0d36f690445193b0b3fa1fcdfcf96fef</td>\n",
       "    </tr>\n",
       "    <tr>\n",
       "      <th>2</th>\n",
       "      <td>c5e85c0d6fbfbe1c9e8168a4be99d4cd</td>\n",
       "      <td>pageView</td>\n",
       "      <td>d3437bc50657e3ab45489ab5684c9c00</td>\n",
       "    </tr>\n",
       "    <tr>\n",
       "      <th>3</th>\n",
       "      <td>ca17c86c63a53be7d847b27ef0a5613d</td>\n",
       "      <td>pageView</td>\n",
       "      <td>7749191fcf63bc963e063a30ad91427c</td>\n",
       "    </tr>\n",
       "    <tr>\n",
       "      <th>4</th>\n",
       "      <td>8c2e62bd28b629939d554fa2caaaa6a8</td>\n",
       "      <td>pageView</td>\n",
       "      <td>dd800bc83fbdecfd691125a6b578b9a0</td>\n",
       "    </tr>\n",
       "  </tbody>\n",
       "</table>\n",
       "</div>"
      ],
      "text/plain": [
       "                               uuid userevent  \\\n",
       "0  e20bfb7079ddfbbce8dd5352e411b6d3  pageView   \n",
       "1  6078364bfdf3226c3d9d68d6c215bdc2  pageView   \n",
       "2  c5e85c0d6fbfbe1c9e8168a4be99d4cd  pageView   \n",
       "3  ca17c86c63a53be7d847b27ef0a5613d  pageView   \n",
       "4  8c2e62bd28b629939d554fa2caaaa6a8  pageView   \n",
       "\n",
       "                       sourceprodid  \n",
       "0  01851eb7943fbd19d11909e8f3d724df  \n",
       "1  0d36f690445193b0b3fa1fcdfcf96fef  \n",
       "2  d3437bc50657e3ab45489ab5684c9c00  \n",
       "3  7749191fcf63bc963e063a30ad91427c  \n",
       "4  dd800bc83fbdecfd691125a6b578b9a0  "
      ]
     },
     "execution_count": 48,
     "metadata": {},
     "output_type": "execute_result"
    }
   ],
   "source": [
    "# number of times a user has interacted with a product\n",
    "tmp_df = df[['uuid', 'userevent', 'sourceprodid']]\n",
    "tmp_df.drop_duplicates(inplace=True)\n",
    "tmp_df.reset_index(drop=True, inplace=True)\n",
    "\n",
    "print(tmp_df.shape)\n",
    "print(tmp_df['uuid'].nunique())\n",
    "print(tmp_df['sourceprodid'].nunique())\n",
    "tmp_df.head()"
   ]
  },
  {
   "cell_type": "code",
   "execution_count": 43,
   "metadata": {},
   "outputs": [
    {
     "name": "stdout",
     "output_type": "stream",
     "text": [
      "CPU times: user 2min 42s, sys: 2.43 s, total: 2min 44s\n",
      "Wall time: 2min 45s\n"
     ]
    }
   ],
   "source": [
    "%time table = df.groupby(['uuid', 'userevent'])['sourceprodid'].apply(list)"
   ]
  },
  {
   "cell_type": "code",
   "execution_count": 46,
   "metadata": {},
   "outputs": [],
   "source": [
    "table = pd.DataFrame(table)\n",
    "table.reset_index(inplace=True)"
   ]
  },
  {
   "cell_type": "code",
   "execution_count": 47,
   "metadata": {},
   "outputs": [
    {
     "name": "stdout",
     "output_type": "stream",
     "text": [
      "(1184686, 3)\n"
     ]
    },
    {
     "data": {
      "text/html": [
       "<div>\n",
       "<style scoped>\n",
       "    .dataframe tbody tr th:only-of-type {\n",
       "        vertical-align: middle;\n",
       "    }\n",
       "\n",
       "    .dataframe tbody tr th {\n",
       "        vertical-align: top;\n",
       "    }\n",
       "\n",
       "    .dataframe thead th {\n",
       "        text-align: right;\n",
       "    }\n",
       "</style>\n",
       "<table border=\"1\" class=\"dataframe\">\n",
       "  <thead>\n",
       "    <tr style=\"text-align: right;\">\n",
       "      <th></th>\n",
       "      <th>uuid</th>\n",
       "      <th>userevent</th>\n",
       "      <th>sourceprodid</th>\n",
       "    </tr>\n",
       "  </thead>\n",
       "  <tbody>\n",
       "    <tr>\n",
       "      <th>0</th>\n",
       "      <td>00001e68c38930f39c9a58a754a2578b</td>\n",
       "      <td>pageView</td>\n",
       "      <td>[5b135c7e54ae8d9255939a6efd2d6200, 4f4de7383d9...</td>\n",
       "    </tr>\n",
       "    <tr>\n",
       "      <th>1</th>\n",
       "      <td>000033d7eb77b02831867603919d7711</td>\n",
       "      <td>pageView</td>\n",
       "      <td>[55c1b954b7e505f6a96b8a8a7922fd92, 72c838306fb...</td>\n",
       "    </tr>\n",
       "    <tr>\n",
       "      <th>2</th>\n",
       "      <td>00003e95677706afd429c4cafa143dee</td>\n",
       "      <td>pageView</td>\n",
       "      <td>[0626810b5930d6bd71d7d9ac2f2c1d19]</td>\n",
       "    </tr>\n",
       "    <tr>\n",
       "      <th>3</th>\n",
       "      <td>00004137bb6ccfa0f57bf6bad9188575</td>\n",
       "      <td>pageView</td>\n",
       "      <td>[f9fb1eea477ee7a94f771f066c684264, 41f763a8ddb...</td>\n",
       "    </tr>\n",
       "    <tr>\n",
       "      <th>4</th>\n",
       "      <td>00004c04dc241f2982fbb9429deffb62</td>\n",
       "      <td>pageView</td>\n",
       "      <td>[03e2d1e6b67cbe24f282d697a53375ea, cdf8e8d8f6e...</td>\n",
       "    </tr>\n",
       "  </tbody>\n",
       "</table>\n",
       "</div>"
      ],
      "text/plain": [
       "                               uuid userevent  \\\n",
       "0  00001e68c38930f39c9a58a754a2578b  pageView   \n",
       "1  000033d7eb77b02831867603919d7711  pageView   \n",
       "2  00003e95677706afd429c4cafa143dee  pageView   \n",
       "3  00004137bb6ccfa0f57bf6bad9188575  pageView   \n",
       "4  00004c04dc241f2982fbb9429deffb62  pageView   \n",
       "\n",
       "                                        sourceprodid  \n",
       "0  [5b135c7e54ae8d9255939a6efd2d6200, 4f4de7383d9...  \n",
       "1  [55c1b954b7e505f6a96b8a8a7922fd92, 72c838306fb...  \n",
       "2                 [0626810b5930d6bd71d7d9ac2f2c1d19]  \n",
       "3  [f9fb1eea477ee7a94f771f066c684264, 41f763a8ddb...  \n",
       "4  [03e2d1e6b67cbe24f282d697a53375ea, cdf8e8d8f6e...  "
      ]
     },
     "execution_count": 47,
     "metadata": {},
     "output_type": "execute_result"
    }
   ],
   "source": [
    "print(table.shape)\n",
    "table.head()"
   ]
  },
  {
   "cell_type": "markdown",
   "metadata": {},
   "source": [
    "## Approach\n",
    "0. Find the number of unique uuid, sourceprodid, ontology and brand\n",
    "1. Mapping between uuid and list of interacted sourceprodid by userevent\n",
    "2. Mapping between sourceprodid and (ontology, brand and price)\n",
    "3. Features - num_interactions_user, num_pdts_interacted_user, num_ont_interacted_user, num_brand_interacted_user, mean_price_interacted_user, time_since_earliest_interaction_user, time_since_earliest_interaction_pdt, num_interactions_pdt, num_users_interacted_pdt, min_num_interactions_user_pdt, max_num_interactions_user_pdt, mean_num_interactions_user_pdt, min_num_interactions_user_ont, max_num_interactions_user_ont, mean_num_interactions_user_ont, min_num_interactions_user_brand, max_num_interactions_user_brand, mean_num_interactions_user_brand \n",
    "4. Stream the .gz files using a custom dataset class and dataloader\n",
    "5. Sampling - Use the first 40 files for training, the next 4 files for validation and the last 4 files for testing\n",
    "   \n",
    "5a. Use val sample for model validation and probability threshold optimization & test sample for benchmarking the performance numbers viz. auc, f-score, latency of recommendation output\n",
    "\n",
    "6. Train a classification model on train sample\n",
    "7. Recommendation logic - Given a uuid, compute dot product b/w uuid's embedding and embedding of all brands and pick the closest brand. Then use the model to predict probabilities of each of the products in the chosen brand and show the top k products"
   ]
  },
  {
   "cell_type": "code",
   "execution_count": null,
   "metadata": {},
   "outputs": [],
   "source": []
  }
 ],
 "metadata": {
  "kernelspec": {
   "display_name": "Python 3",
   "language": "python",
   "name": "python3"
  },
  "language_info": {
   "codemirror_mode": {
    "name": "ipython",
    "version": 3
   },
   "file_extension": ".py",
   "mimetype": "text/x-python",
   "name": "python",
   "nbconvert_exporter": "python",
   "pygments_lexer": "ipython3",
   "version": "3.6.5"
  }
 },
 "nbformat": 4,
 "nbformat_minor": 2
}
