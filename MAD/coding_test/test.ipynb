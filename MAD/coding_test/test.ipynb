{
 "cells": [
  {
   "cell_type": "markdown",
   "metadata": {},
   "source": [
    "## Goal\n",
    "1. KNN classifier with the input as numpy arrays"
   ]
  },
  {
   "cell_type": "code",
   "execution_count": 1,
   "metadata": {},
   "outputs": [],
   "source": [
    "import pandas as pd\n",
    "import numpy as np"
   ]
  },
  {
   "cell_type": "code",
   "execution_count": 3,
   "metadata": {},
   "outputs": [],
   "source": [
    "# GLOBALS\n",
    "MEAN = 3.0\n",
    "SD = 5.0\n",
    "SEED = 1"
   ]
  },
  {
   "cell_type": "code",
   "execution_count": 4,
   "metadata": {},
   "outputs": [],
   "source": [
    "# create a random input array\n",
    "\n",
    "def get_input_data(n_samples, mean=MEAN, sd=SD, random_state=SEED):\n",
    "    \n",
    "    x = np.random.normal(loc=mean, scale=sd, size=n_samples)\n",
    "    y = [0]*(n_samples//2) + [1]*(n_samples//2)\n",
    "    np.random.seed(random_state)\n",
    "    y = np.random.permutation(y)\n",
    "    \n",
    "    return x, y"
   ]
  },
  {
   "cell_type": "markdown",
   "metadata": {},
   "source": [
    "### KNN Steps\n",
    "0. No training is requried. For a given instance in real-time, just pick the k (parameter) closest neighbours (samples) and return the majority class from the chosen neighbours\n",
    "1. Define a method for computing distance/similarity\n",
    "2. Method for picking the k closest neighbours in sorted order of distance\n",
    "3. Method for calculating the majority class label"
   ]
  },
  {
   "cell_type": "code",
   "execution_count": null,
   "metadata": {},
   "outputs": [],
   "source": [
    "class KNN(object):\n",
    "    \n",
    "    def __init__(self, k, dist_threshold):\n",
    "        self.num_neighbours = k\n",
    "        self.dist_threshold = dist_threshold\n",
    "        \n",
    "    def calc_distance(self, x, x_batch):\n",
    "            \n",
    "        numerator = np.dot(x_batch, x)\n",
    "        mod_a = np.linalg.norm(x_batch, axis=1)\n",
    "        mod_b = np.linalg.norm(x)\n",
    "        denominator = mod_a*mod_b\n",
    "        denominator = denominator.reshape((denominator.shape[0], 1))\n",
    "\n",
    "        dist = 1.*numerator/(denominator + 1e-8)\n",
    "        dist = dist.reshape((dist.shape[0]))\n",
    "        \n",
    "        sorted_idxs = np.argsort(dist)\n",
    "        sorted_dist = dist.sort()\n",
    "        \n",
    "        return sorted_idxs[::-1], sorted_dist[::-1]\n",
    "    \n",
    "    def calc_class_label(self, idxs):\n",
    "        \n",
    "        return self.y_train[idxs]\n",
    "        \n",
    "    def fit(x, y):\n",
    "        self.x_train = x\n",
    "        self.y_train = y\n",
    "        \n",
    "    def predict(self, x):\n",
    "        \n",
    "        if len(x.shape) == 1:\n",
    "            # 1d array\n",
    "            x_reshaped = x.reshape((1, x.shape[0]))\n",
    "        \n",
    "        if len(self.x_train.shape) == 1:\n",
    "            # 1d array\n",
    "            x_train_reshaped = self.x_train.reshape(\n",
    "                (self.x_train.shape[0], 1))\n",
    "        \n",
    "        # calculate sorted distance array\n",
    "        idxs, dists = self.calc_distance(x_reshaped, x_train_reshaped)\n",
    "        # dists not required for prediction\n",
    "        \n",
    "        # predict class label based on sorted distance array and y_train\n",
    "        pred_labels = self.calc_class_label(idxs)\n",
    "        pred_label = \n",
    "        \n",
    "        return pred_label\n",
    "        \n",
    "    def evaluate():\n",
    "        # pass"
   ]
  },
  {
   "cell_type": "code",
   "execution_count": null,
   "metadata": {},
   "outputs": [],
   "source": []
  }
 ],
 "metadata": {
  "kernelspec": {
   "display_name": "Python 3",
   "language": "python",
   "name": "python3"
  },
  "language_info": {
   "codemirror_mode": {
    "name": "ipython",
    "version": 3
   },
   "file_extension": ".py",
   "mimetype": "text/x-python",
   "name": "python",
   "nbconvert_exporter": "python",
   "pygments_lexer": "ipython3",
   "version": "3.6.5"
  }
 },
 "nbformat": 4,
 "nbformat_minor": 2
}
