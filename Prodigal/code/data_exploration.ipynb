{
 "cells": [
  {
   "cell_type": "code",
   "execution_count": 1,
   "id": "further-sudan",
   "metadata": {},
   "outputs": [],
   "source": [
    "import pandas as pd\n",
    "import numpy as np\n",
    "import json\n",
    "import os\n",
    "import sys"
   ]
  },
  {
   "cell_type": "code",
   "execution_count": 2,
   "id": "grave-threat",
   "metadata": {},
   "outputs": [],
   "source": [
    "# GLOBALS\n",
    "LOCAL_ROOT = \"/Users/varunnathan/Documents/General\"\n",
    "PROJ_DIR = os.path.join(LOCAL_ROOT, \"ExternalTest/Prodigal\")\n",
    "RAW_DATA_DIR = os.path.join(PROJ_DIR, \"raw\")\n",
    "INTER_DATA_DIR = os.path.join(PROJ_DIR, \"intermediate\")\n",
    "RESULTS_DIR = os.path.join(PROJ_DIR, \"results\")\n",
    "MODEL_DIR = os.path.join(PROJ_DIR, \"model\")\n",
    "TRAIN_FN = os.path.join(RAW_DATA_DIR, \"final_train.json\")"
   ]
  },
  {
   "cell_type": "code",
   "execution_count": 3,
   "id": "ecological-comparison",
   "metadata": {},
   "outputs": [],
   "source": [
    "# read data\n",
    "df = json.load(open(TRAIN_FN))"
   ]
  },
  {
   "cell_type": "code",
   "execution_count": 5,
   "id": "fresh-accessory",
   "metadata": {},
   "outputs": [
    {
     "data": {
      "text/plain": [
       "(list, 50)"
      ]
     },
     "execution_count": 5,
     "metadata": {},
     "output_type": "execute_result"
    }
   ],
   "source": [
    "type(df), len(df)"
   ]
  },
  {
   "cell_type": "code",
   "execution_count": 9,
   "id": "impaired-implementation",
   "metadata": {},
   "outputs": [
    {
     "data": {
      "text/plain": [
       "{'_id': 'fd69a1f8-6bb0-4624-8052-b6e46fe7622a',\n",
       " 'text': \"nine seven three and then let's just go over with this arrangement and then we'll be completely set please state mister is december twenty first two thousand twenty authorize authorized one time transaction and of twelve dollar and ninety seven cents be address from your card will be processed as an electronic and solutions and your stevens if you just need to cause it's recording shipping is your electronic signature can please speak your full name ai i agree\",\n",
       " 'entity': [{'span': [123, 164],\n",
       "   'string': 'december twenty first two thousand twenty',\n",
       "   'type': 'DATE'},\n",
       "  {'span': [186, 194], 'string': 'one time', 'type': 'NUM_PAYMENTS'},\n",
       "  {'span': [214, 250],\n",
       "   'string': 'twelve dollar and ninety seven cents',\n",
       "   'type': 'PAYMENT_AMOUNT'}]}"
      ]
     },
     "execution_count": 9,
     "metadata": {},
     "output_type": "execute_result"
    }
   ],
   "source": [
    "df[0]"
   ]
  },
  {
   "cell_type": "code",
   "execution_count": 30,
   "id": "resistant-rebecca",
   "metadata": {},
   "outputs": [
    {
     "name": "stdout",
     "output_type": "stream",
     "text": [
      "50 50\n"
     ]
    }
   ],
   "source": [
    "cnt = 0\n",
    "ids = set()\n",
    "for row in df:\n",
    "    ids.add(row['_id'])\n",
    "    cnt += 1\n",
    "print(len(ids), cnt)"
   ]
  },
  {
   "cell_type": "code",
   "execution_count": 34,
   "id": "federal-wales",
   "metadata": {},
   "outputs": [
    {
     "data": {
      "text/plain": [
       "164"
      ]
     },
     "execution_count": 34,
     "metadata": {},
     "output_type": "execute_result"
    }
   ],
   "source": [
    "df[0]['text'].find('december twenty first two thousand twenty')\n",
    "123 + len('december twenty first two thousand twenty')"
   ]
  },
  {
   "cell_type": "code",
   "execution_count": 7,
   "id": "alert-instrumentation",
   "metadata": {},
   "outputs": [
    {
     "name": "stdout",
     "output_type": "stream",
     "text": [
      "DATE \t 51\n",
      "NUM_PAYMENTS \t 38\n",
      "PAYMENT_AMOUNT \t 58\n",
      "PAYMENT_DATE \t 46\n",
      "PAYMEN_AMOUNT \t 1\n"
     ]
    }
   ],
   "source": [
    "# support for each class\n",
    "from collections import defaultdict\n",
    "\n",
    "LABELS = ['DATE', 'NUM_PAYMENTS', 'PAYMENT_AMOUNT', 'PAYMENT_DATE']\n",
    "\n",
    "label_support_dct = defaultdict(list)\n",
    "for row in df:\n",
    "    for ent in row['entity']:\n",
    "        cur_cnt = label_support_dct.get(ent['type'], 0)\n",
    "        label_support_dct[ent['type']] = cur_cnt + 1\n",
    "    \n",
    "for key, cnt in label_support_dct.items():\n",
    "    print(key, '\\t', cnt)"
   ]
  },
  {
   "cell_type": "code",
   "execution_count": 13,
   "id": "behavioral-think",
   "metadata": {},
   "outputs": [
    {
     "name": "stdout",
     "output_type": "stream",
     "text": [
      "DATE \t 51\n",
      "NUM_PAYMENTS \t 38\n",
      "PAYMENT_AMOUNT \t 59\n",
      "PAYMENT_DATE \t 46\n"
     ]
    }
   ],
   "source": [
    "# replace PAYMEN_AMOUNT with PAYMENT_AMOUNT\n",
    "for i, row in enumerate(df):\n",
    "    for j, ent in enumerate(row['entity']):\n",
    "        if ent['type'] == 'PAYMEN_AMOUNT':\n",
    "            df[i]['entity'][j]['type'] = 'PAYMENT_AMOUNT'\n",
    "            \n",
    "label_support_dct = defaultdict(list)\n",
    "for row in df:\n",
    "    for ent in row['entity']:\n",
    "        cur_cnt = label_support_dct.get(ent['type'], 0)\n",
    "        label_support_dct[ent['type']] = cur_cnt + 1\n",
    "    \n",
    "for key, cnt in label_support_dct.items():\n",
    "    print(key, '\\t', cnt)"
   ]
  },
  {
   "cell_type": "code",
   "execution_count": 16,
   "id": "genuine-break",
   "metadata": {},
   "outputs": [
    {
     "name": "stdout",
     "output_type": "stream",
     "text": [
      "3 8 ['DATE', 'NUM_PAYMENTS', 'PAYMENT_AMOUNT', 'PAYMENT_AMOUNT', 'PAYMENT_DATE', 'PAYMENT_DATE', 'PAYMENT_DATE', 'PAYMENT_AMOUNT']\n",
      "9 6 ['NUM_PAYMENTS', 'PAYMENT_DATE', 'DATE', 'NUM_PAYMENTS', 'PAYMENT_AMOUNT', 'PAYMENT_AMOUNT']\n",
      "10 4 ['DATE', 'NUM_PAYMENTS', 'PAYMENT_AMOUNT', 'PAYMENT_DATE']\n",
      "14 5 ['DATE', 'NUM_PAYMENTS', 'PAYMENT_AMOUNT', 'PAYMENT_DATE', 'PAYMENT_DATE']\n",
      "16 4 ['DATE', 'NUM_PAYMENTS', 'PAYMENT_AMOUNT', 'PAYMENT_DATE']\n",
      "28 4 ['DATE', 'NUM_PAYMENTS', 'PAYMENT_AMOUNT', 'PAYMENT_DATE']\n",
      "38 4 ['DATE', 'NUM_PAYMENTS', 'PAYMENT_DATE', 'PAYMENT_AMOUNT']\n",
      "39 4 ['DATE', 'NUM_PAYMENTS', 'PAYMENT_AMOUNT', 'PAYMENT_DATE']\n",
      "44 4 ['DATE', 'NUM_PAYMENTS', 'PAYMENT_AMOUNT', 'PAYMENT_DATE']\n",
      "46 4 ['DATE', 'NUM_PAYMENTS', 'PAYMENT_AMOUNT', 'PAYMENT_DATE']\n"
     ]
    }
   ],
   "source": [
    "# find rows with all labels\n",
    "for i, row in enumerate(df):\n",
    "    labels = [ent['type'] for ent in row['entity']]\n",
    "    if len(set(labels)) == len(LABELS):\n",
    "        print(i, len(labels), labels)\n",
    "        "
   ]
  },
  {
   "cell_type": "code",
   "execution_count": 17,
   "id": "arctic-civilian",
   "metadata": {},
   "outputs": [],
   "source": [
    "from sklearn.model_selection import LeaveOneOut"
   ]
  },
  {
   "cell_type": "code",
   "execution_count": 18,
   "id": "hourly-product",
   "metadata": {},
   "outputs": [],
   "source": [
    "loo = LeaveOneOut()"
   ]
  },
  {
   "cell_type": "code",
   "execution_count": 19,
   "id": "particular-gibson",
   "metadata": {},
   "outputs": [
    {
     "data": {
      "text/plain": [
       "50"
      ]
     },
     "execution_count": 19,
     "metadata": {},
     "output_type": "execute_result"
    }
   ],
   "source": [
    "loo.get_n_splits(df)"
   ]
  },
  {
   "cell_type": "code",
   "execution_count": 37,
   "id": "micro-magic",
   "metadata": {},
   "outputs": [
    {
     "name": "stdout",
     "output_type": "stream",
     "text": [
      "TRAIN: [ 1  2  3  4  5  6  7  8  9 10 11 12 13 14 15 16 17 18 19 20 21 22 23 24\n",
      " 25 26 27 28 29 30 31 32 33 34 35 36 37 38 39 40 41 42 43 44 45 46 47 48\n",
      " 49] TEST: [0]\n",
      "49 1\n"
     ]
    }
   ],
   "source": [
    "for train_index, test_index in loo.split(df):\n",
    "    print(\"TRAIN:\", train_index, \"TEST:\", test_index)\n",
    "    X_train, X_test = [x for i, x in enumerate(df) if i not in test_index], [df[test_index[0]]]\n",
    "    print(len(X_train), len(X_test))\n",
    "    break"
   ]
  },
  {
   "cell_type": "code",
   "execution_count": null,
   "id": "mounted-bacon",
   "metadata": {},
   "outputs": [],
   "source": []
  }
 ],
 "metadata": {
  "kernelspec": {
   "display_name": "py38",
   "language": "python",
   "name": "py38"
  },
  "language_info": {
   "codemirror_mode": {
    "name": "ipython",
    "version": 3
   },
   "file_extension": ".py",
   "mimetype": "text/x-python",
   "name": "python",
   "nbconvert_exporter": "python",
   "pygments_lexer": "ipython3",
   "version": "3.8.2"
  }
 },
 "nbformat": 4,
 "nbformat_minor": 5
}
